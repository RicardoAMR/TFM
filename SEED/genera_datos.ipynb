{
 "cells": [
  {
   "cell_type": "code",
   "execution_count": 57,
   "metadata": {},
   "outputs": [],
   "source": [
    "import scipy.io\n",
    "import re\n",
    "import numpy as np\n",
    "from collections import Counter\n",
    "import os\n",
    "import pandas as pd"
   ]
  },
  {
   "cell_type": "code",
   "execution_count": 60,
   "metadata": {},
   "outputs": [
    {
     "data": {
      "text/plain": [
       "0     2.0\n",
       "1     1.0\n",
       "2     0.0\n",
       "3     0.0\n",
       "4     1.0\n",
       "5     2.0\n",
       "6     0.0\n",
       "7     1.0\n",
       "8     2.0\n",
       "9     2.0\n",
       "10    1.0\n",
       "11    0.0\n",
       "12    1.0\n",
       "13    2.0\n",
       "14    0.0\n",
       "15    NaN\n",
       "16    NaN\n",
       "Name: Label, dtype: float64"
      ]
     },
     "execution_count": 60,
     "metadata": {},
     "output_type": "execute_result"
    }
   ],
   "source": [
    "dfs = pd.read_excel('SEED_stimulation.xlsx', sheet_name=None)\n",
    "dfs['three emotions']['Label']"
   ]
  },
  {
   "cell_type": "code",
   "execution_count": 35,
   "metadata": {},
   "outputs": [
    {
     "name": "stdout",
     "output_type": "stream",
     "text": [
      "Reading 0 ... 7638879  =      0.000 ...  7638.879 secs...\n"
     ]
    },
    {
     "name": "stderr",
     "output_type": "stream",
     "text": [
      "/tmp/ipykernel_19908/156461747.py:6: RuntimeWarning:   Could not parse meas date from the header. Setting to None.\n",
      "  raw = mne.io.read_raw_cnt(archivo_cnt, preload=True)\n",
      "/tmp/ipykernel_19908/156461747.py:6: RuntimeWarning: Could not define the number of bytes automatically. Defaulting to 2.\n",
      "  raw = mne.io.read_raw_cnt(archivo_cnt, preload=True)\n"
     ]
    },
    {
     "name": "stdout",
     "output_type": "stream",
     "text": [
      "<Info | 9 non-empty values\n",
      " bads: []\n",
      " ch_names: FP1, FPZ, FP2, AF3, AF4, F7, F5, F3, F1, FZ, F2, F4, F6, F8, ...\n",
      " chs: 66 EEG\n",
      " custom_ref_applied: False\n",
      " dig: 69 items (3 Cardinal, 66 EEG)\n",
      " highpass: 0.0 Hz\n",
      " lowpass: 500.0 Hz\n",
      " meas_date: unspecified\n",
      " nchan: 66\n",
      " projs: []\n",
      " sfreq: 1000.0 Hz\n",
      " subject_info: <subject_info | id: 0, sex: 0 (FIFFV_SUBJ_SEX_UNKNOWN), first_name: , last_name: >\n",
      ">\n"
     ]
    }
   ],
   "source": [
    "import mne\n",
    "\n",
    "archivo_cnt = \"./SEED_RAW_EEG/10_1.cnt\"\n",
    "\n",
    "# Cargar los datos en bruto\n",
    "raw = mne.io.read_raw_cnt(archivo_cnt, preload=True)\n",
    "\n",
    "# Mostrar información del archivo\n",
    "print(raw.info)"
   ]
  },
  {
   "cell_type": "code",
   "execution_count": 36,
   "metadata": {},
   "outputs": [
    {
     "name": "stdout",
     "output_type": "stream",
     "text": [
      "Forma del array de datos EEG: (66, 7638880)\n"
     ]
    }
   ],
   "source": [
    "datos_eeg = raw.get_data()  # Devuelve un NumPy array de forma (n_canales, n_muestras)\n",
    "\n",
    "# Verificar la forma del array\n",
    "print(\"Forma del array de datos EEG:\", datos_eeg.shape)  # (n_canales, n_muestras)"
   ]
  },
  {
   "cell_type": "code",
   "execution_count": 29,
   "metadata": {},
   "outputs": [],
   "source": [
    "'''train_label = [x for x in [1,0,-1,-1,0,1,-1,0,1] for _ in range(3)]\n",
    "valid_label = [x for x in [1,0,-1] for _ in range(3)]\n",
    "test_label = [x for x in [0,1,-1] for _ in range(3)]\n",
    "train = ['1_1.cnt', '2_1.cnt', '2_2.cnt', '2_3.cnt', '3_1.cnt', '3_2.cnt', '3_3.cnt', '4_1.cnt', '4_2.cnt', '4_3.cnt', '5_1.cnt', '5_2.cnt', '5_3.cnt', '6_1.cnt', '6_2.cnt', '6_3.cnt', '7_1.cnt', '7_2.cnt', '7_3.cnt', '8_1.cnt', '8_2.cnt', '8_3.cnt', '9_1.cnt', '9_2.cnt', '9_3.cnt']\n",
    "valid = ['10_1.cnt', '10_2.cnt', '10_3.cnt', '11_1.cnt', '11_2.cnt', '11_3.cnt', '12_1.cnt', '12_2.cnt', '12_3.cnt']\n",
    "test = ['13_1.cnt', '13_2.cnt', '13_3.cnt', '14_1.cnt', '14_2.cnt', '14_3.cnt', '15_1.cnt', '15_2.cnt', '15_3.cnt']'''\n",
    "\n",
    "train_label = [1,0,-1,-1,0,1,-1,0,1]\n",
    "valid_label = [1,0,-1]\n",
    "test_label = [0,1,-1]\n",
    "train = ['1_1.cnt', '2_1.cnt', '3_1.cnt', '4_1.cnt', '5_1.cnt', '6_1.cnt', '7_1.cnt', '8_1.cnt', '9_1.cnt']\n",
    "valid = ['10_1.cnt', '11_1.cnt', '12_1.cnt']\n",
    "test = ['13_1.cnt', '14_1.cnt', '15_1.cnt']"
   ]
  },
  {
   "cell_type": "code",
   "execution_count": 136,
   "metadata": {},
   "outputs": [
    {
     "name": "stdout",
     "output_type": "stream",
     "text": [
      "7_1.cnt\n"
     ]
    },
    {
     "ename": "NameError",
     "evalue": "name 'mne' is not defined",
     "output_type": "error",
     "traceback": [
      "\u001b[31m---------------------------------------------------------------------------\u001b[39m",
      "\u001b[31mNameError\u001b[39m                                 Traceback (most recent call last)",
      "\u001b[36mCell\u001b[39m\u001b[36m \u001b[39m\u001b[32mIn[136]\u001b[39m\u001b[32m, line 17\u001b[39m\n\u001b[32m     14\u001b[39m \u001b[38;5;28mprint\u001b[39m(filename)\n\u001b[32m     15\u001b[39m \u001b[38;5;28;01mif\u001b[39;00m filename.endswith(\u001b[33m\"\u001b[39m\u001b[33m.cnt\u001b[39m\u001b[33m\"\u001b[39m):\n\u001b[32m---> \u001b[39m\u001b[32m17\u001b[39m     mat_aux = \u001b[43mmne\u001b[49m.io.read_raw_cnt(\u001b[38;5;28mdir\u001b[39m + \u001b[33m'\u001b[39m\u001b[33m/\u001b[39m\u001b[33m'\u001b[39m + filename, preload=\u001b[38;5;28;01mTrue\u001b[39;00m).get_data().T.tolist()\n\u001b[32m     18\u001b[39m     \u001b[38;5;28mprint\u001b[39m(\u001b[33m'\u001b[39m\u001b[33mya he almacenado el dato\u001b[39m\u001b[33m'\u001b[39m)\n\u001b[32m     19\u001b[39m     \u001b[38;5;28;01mif\u001b[39;00m filename \u001b[38;5;129;01min\u001b[39;00m train:\n",
      "\u001b[31mNameError\u001b[39m: name 'mne' is not defined"
     ]
    }
   ],
   "source": [
    "directory = './SEED_RAW_EEG'\n",
    "\n",
    "X_train = []\n",
    "X_valid = []\n",
    "X_test = []\n",
    "\n",
    "y_train = []\n",
    "y_valid = []\n",
    "y_test = []\n",
    "\n",
    "c1,c2,c3 = 0,0,0\n",
    "for file in os.listdir(directory):\n",
    "    filename = os.fsdecode(file)\n",
    "    print(filename)\n",
    "    if filename.endswith(\".cnt\"):\n",
    "        \n",
    "        mat_aux = mne.io.read_raw_cnt(dir + '/' + filename, preload=True).get_data().T.tolist()\n",
    "        print('ya he almacenado el dato')\n",
    "        if filename in train:\n",
    "            lab = train_label[train.index(filename)]\n",
    "            X_train.extend(mat_aux)\n",
    "            y_train.extend([lab] * len(mat_aux))\n",
    "        elif filename in valid:\n",
    "            lab = valid_label[valid.index(filename)]\n",
    "            X_valid.extend(mat_aux)\n",
    "            y_valid.extend([lab] * len(mat_aux))\n",
    "        elif filename in test:\n",
    "            lab = test_label[test.index(filename)]\n",
    "            X_test.extend(mat_aux)\n",
    "            y_test.extend([lab] * len(mat_aux))\n",
    "        print('ya he configurado X e y')"
   ]
  },
  {
   "cell_type": "code",
   "execution_count": null,
   "metadata": {},
   "outputs": [],
   "source": []
  },
  {
   "cell_type": "code",
   "execution_count": null,
   "metadata": {},
   "outputs": [],
   "source": []
  },
  {
   "cell_type": "code",
   "execution_count": null,
   "metadata": {},
   "outputs": [],
   "source": []
  },
  {
   "cell_type": "code",
   "execution_count": 162,
   "metadata": {},
   "outputs": [
    {
     "data": {
      "text/plain": [
       "{'__header__': b'MATLAB 5.0 MAT-file, Platform: PCWIN64, Created on: Sat Apr 18 22:14:56 2015',\n",
       " '__version__': '1.0',\n",
       " '__globals__': [],\n",
       " 'label': array([[ 1,  0, -1, -1,  0,  1, -1,  0,  1,  1,  0, -1,  0,  1, -1]],\n",
       "       dtype=int16)}"
      ]
     },
     "execution_count": 162,
     "metadata": {},
     "output_type": "execute_result"
    }
   ],
   "source": [
    "dir = './Preprocessed_EEG/label.mat'\n",
    "mat = scipy.io.loadmat(dir)\n",
    "\n",
    "mat"
   ]
  },
  {
   "cell_type": "code",
   "execution_count": 163,
   "metadata": {},
   "outputs": [
    {
     "name": "stdout",
     "output_type": "stream",
     "text": [
      "(1, 15)\n"
     ]
    },
    {
     "data": {
      "text/plain": [
       "array([[ 1,  0, -1, -1,  0,  1, -1,  0,  1,  1,  0, -1,  0,  1, -1]],\n",
       "      dtype=int16)"
      ]
     },
     "execution_count": 163,
     "metadata": {},
     "output_type": "execute_result"
    }
   ],
   "source": [
    "dato = mat['label']\n",
    "print(dato.shape)\n",
    "dato"
   ]
  },
  {
   "cell_type": "code",
   "execution_count": 73,
   "metadata": {},
   "outputs": [
    {
     "name": "stdout",
     "output_type": "stream",
     "text": [
      "\u001b[0m\u001b[01;32m10_20131130.mat\u001b[0m*  \u001b[01;32m14_20140601.mat\u001b[0m*  \u001b[01;32m3_20140603.mat\u001b[0m*  \u001b[01;32m7_20131027.mat\u001b[0m*\r\n",
      "\u001b[01;32m10_20131204.mat\u001b[0m*  \u001b[01;32m14_20140615.mat\u001b[0m*  \u001b[01;32m3_20140611.mat\u001b[0m*  \u001b[01;32m7_20131030.mat\u001b[0m*\r\n",
      "\u001b[01;32m10_20131211.mat\u001b[0m*  \u001b[01;32m14_20140627.mat\u001b[0m*  \u001b[01;32m3_20140629.mat\u001b[0m*  \u001b[01;32m7_20131106.mat\u001b[0m*\r\n",
      "\u001b[01;32m11_20140618.mat\u001b[0m*  \u001b[01;32m15_20130709.mat\u001b[0m*  \u001b[01;32m4_20140621.mat\u001b[0m*  \u001b[01;32m8_20140511.mat\u001b[0m*\r\n",
      "\u001b[01;32m11_20140625.mat\u001b[0m*  \u001b[01;32m15_20131016.mat\u001b[0m*  \u001b[01;32m4_20140702.mat\u001b[0m*  \u001b[01;32m8_20140514.mat\u001b[0m*\r\n",
      "\u001b[01;32m11_20140630.mat\u001b[0m*  \u001b[01;32m15_20131105.mat\u001b[0m*  \u001b[01;32m4_20140705.mat\u001b[0m*  \u001b[01;32m8_20140521.mat\u001b[0m*\r\n",
      "\u001b[01;32m12_20131127.mat\u001b[0m*  \u001b[01;32m1_20131027.mat\u001b[0m*   \u001b[01;32m5_20140411.mat\u001b[0m*  \u001b[01;32m9_20140620.mat\u001b[0m*\r\n",
      "\u001b[01;32m12_20131201.mat\u001b[0m*  \u001b[01;32m1_20131030.mat\u001b[0m*   \u001b[01;32m5_20140418.mat\u001b[0m*  \u001b[01;32m9_20140627.mat\u001b[0m*\r\n",
      "\u001b[01;32m12_20131207.mat\u001b[0m*  \u001b[01;32m1_20131107.mat\u001b[0m*   \u001b[01;32m5_20140506.mat\u001b[0m*  \u001b[01;32m9_20140704.mat\u001b[0m*\r\n",
      "\u001b[01;32m13_20140527.mat\u001b[0m*  \u001b[01;32m2_20140404.mat\u001b[0m*   \u001b[01;32m6_20130712.mat\u001b[0m*  \u001b[01;32mlabel.mat\u001b[0m*\r\n",
      "\u001b[01;32m13_20140603.mat\u001b[0m*  \u001b[01;32m2_20140413.mat\u001b[0m*   \u001b[01;32m6_20131016.mat\u001b[0m*  \u001b[01;32mreadme.txt\u001b[0m*\r\n",
      "\u001b[01;32m13_20140610.mat\u001b[0m*  \u001b[01;32m2_20140419.mat\u001b[0m*   \u001b[01;32m6_20131113.mat\u001b[0m*\r\n"
     ]
    }
   ],
   "source": [
    "ls ./Preprocessed_EEG"
   ]
  },
  {
   "cell_type": "code",
   "execution_count": 202,
   "metadata": {},
   "outputs": [],
   "source": [
    "train_label = [1,0,-1,-1,0,1,-1,0,1]\n",
    "valid_label = [1,0,-1]\n",
    "test_label = [0,1,-1]\n",
    "#train_label = [-1,0,1,1,0,-1,0,1,-1]\n",
    "#valid_label = [-1,0,1]\n",
    "#test_label = [1,0,-1]"
   ]
  },
  {
   "cell_type": "code",
   "execution_count": 203,
   "metadata": {},
   "outputs": [],
   "source": [
    "#dirs = ['./Preprocessed_EEG/1_20131107.mat', './Preprocessed_EEG/6_20131113.mat', './Preprocessed_EEG/11_20140630.mat', './Preprocessed_EEG/14_20140627.mat']\n",
    "dirs = ['./Preprocessed_EEG/13_20140610.mat', './Preprocessed_EEG/12_20131207.mat', './Preprocessed_EEG/11_20140630.mat',\n",
    "       './Preprocessed_EEG/1_20131030.mat', './Preprocessed_EEG/9_20140620.mat', './Preprocessed_EEG/7_20131106.mat']\n",
    "\n",
    "X_train = np.array([])\n",
    "X_valid = np.array([])\n",
    "X_test = np.array([])\n",
    "\n",
    "y_train = []\n",
    "y_valid = []\n",
    "y_test = []\n",
    "\n",
    "c1 = 0\n",
    "c2 = 0\n",
    "c3 = 0\n",
    "for d in dirs:\n",
    "    mat = scipy.io.loadmat(d)\n",
    "    for clave in mat:\n",
    "        if not clave.startswith('__'):\n",
    "            dato = mat[clave].T\n",
    "            encontrado = re.findall(r'\\d+', clave)\n",
    "            num = int(encontrado[0])\n",
    "            if num in range(1, 10):\n",
    "            #if num in range(7, 16):\n",
    "                if c1 == 0:\n",
    "                    X_train = dato\n",
    "                    c1 += 1\n",
    "                else:\n",
    "                    X_train = np.concatenate((X_train, dato), axis=0)\n",
    "                y_train.extend([str(train_label[num-1])] * dato.shape[0])\n",
    "                #y_train.extend([str(train_label[num-7])] * dato.shape[0])\n",
    "            elif num in range(10, 13):\n",
    "            #elif num in range(4, 7):\n",
    "                if c2 == 0:\n",
    "                    X_valid = dato\n",
    "                    c2 += 1\n",
    "                else:\n",
    "                    X_valid = np.concatenate((X_valid, dato), axis=0)\n",
    "                y_valid.extend([str(valid_label[num-10])] * dato.shape[0])\n",
    "                #y_valid.extend([str(valid_label[num-4])] * dato.shape[0])\n",
    "            elif num in range(13, 16):\n",
    "            #elif num in range(1, 4):\n",
    "                if c3 == 0:\n",
    "                    X_test = dato\n",
    "                    c3 += 1\n",
    "                else:\n",
    "                    X_test = np.concatenate((X_test, dato), axis=0)\n",
    "                y_test.extend([str(test_label[num-13])] * dato.shape[0])\n",
    "                #y_test.extend([str(test_label[num-1])] * dato.shape[0])"
   ]
  },
  {
   "cell_type": "code",
   "execution_count": 204,
   "metadata": {},
   "outputs": [
    {
     "name": "stdout",
     "output_type": "stream",
     "text": [
      "(2412054, 62)\n",
      "(846018, 62)\n",
      "(814818, 62)\n",
      "2412054\n",
      "846018\n",
      "814818\n"
     ]
    }
   ],
   "source": [
    "print(X_train.shape)\n",
    "print(X_valid.shape)\n",
    "print(X_test.shape)\n",
    "print(len(y_train))\n",
    "print(len(y_valid))\n",
    "print(len(y_test))"
   ]
  },
  {
   "cell_type": "code",
   "execution_count": 205,
   "metadata": {},
   "outputs": [],
   "source": [
    "def apply_sliding_window(X, y, window_size, step_size):\n",
    "    y_res = []\n",
    "    X_res = []\n",
    "    posicion = 0\n",
    "    stride = window_size - step_size\n",
    "    total = len(y)\n",
    "    \n",
    "    while (posicion + window_size < total):\n",
    "        y_aux = []\n",
    "        X_aux = []\n",
    "        \n",
    "        for _ in range(window_size):\n",
    "            y_aux.append(y[posicion])\n",
    "            X_aux.append(X[posicion])\n",
    "            posicion += 1\n",
    "        \n",
    "        valor_mas_comun = Counter(y_aux).most_common(1)\n",
    "        y_res.append(valor_mas_comun[0][0])\n",
    "\n",
    "        X_res.append(np.asarray(X_aux))\n",
    "\n",
    "        posicion -= stride    \n",
    "    \n",
    "    return np.asarray(X_res), np.asarray(y_res)"
   ]
  },
  {
   "cell_type": "code",
   "execution_count": 206,
   "metadata": {},
   "outputs": [
    {
     "name": "stdout",
     "output_type": "stream",
     "text": [
      "(48240, 100, 62)\n",
      "(16919, 100, 62)\n",
      "(16295, 100, 62)\n"
     ]
    }
   ],
   "source": [
    "X_train, y_train = apply_sliding_window(X_train, y_train, window_size=100, step_size=50)\n",
    "X_valid, y_valid = apply_sliding_window(X_valid, y_valid, window_size=100, step_size=50)\n",
    "X_test, y_test = apply_sliding_window(X_test, y_test, window_size=100, step_size=50)\n",
    "\n",
    "print(X_train.shape)\n",
    "print(X_valid.shape)\n",
    "print(X_test.shape)"
   ]
  },
  {
   "cell_type": "code",
   "execution_count": 207,
   "metadata": {},
   "outputs": [
    {
     "name": "stdout",
     "output_type": "stream",
     "text": [
      "(48240,)\n",
      "(16919,)\n",
      "(16295,)\n"
     ]
    }
   ],
   "source": [
    "print(y_train.shape)\n",
    "print(y_valid.shape)\n",
    "print(y_test.shape)"
   ]
  },
  {
   "cell_type": "code",
   "execution_count": 208,
   "metadata": {},
   "outputs": [
    {
     "name": "stdout",
     "output_type": "stream",
     "text": [
      "{'1': 16679, '0': 15217, '-1': 16344}\n",
      "{'1': 5688, '0': 5640, '-1': 5591}\n",
      "{'0': 5640, '1': 5712, '-1': 4943}\n"
     ]
    }
   ],
   "source": [
    "for y in [y_train, y_valid, y_test]:\n",
    "    conteo = {}\n",
    "    for elemento in y:\n",
    "        conteo[elemento] = conteo.get(elemento, 0) + 1\n",
    "    print(conteo)"
   ]
  },
  {
   "cell_type": "code",
   "execution_count": 190,
   "metadata": {},
   "outputs": [],
   "source": [
    "lista_final = [X_train, X_valid, X_test, y_train, y_valid, y_test]\n",
    "\n",
    "with open('dataset_X_y_sliding_window.npy', 'wb') as f:\n",
    "    np.save(f, np.array(lista_final, dtype=object))"
   ]
  },
  {
   "cell_type": "code",
   "execution_count": null,
   "metadata": {},
   "outputs": [],
   "source": []
  }
 ],
 "metadata": {
  "kernelspec": {
   "display_name": "py312gpu",
   "language": "python",
   "name": "py312gpu"
  },
  "language_info": {
   "codemirror_mode": {
    "name": "ipython",
    "version": 3
   },
   "file_extension": ".py",
   "mimetype": "text/x-python",
   "name": "python",
   "nbconvert_exporter": "python",
   "pygments_lexer": "ipython3",
   "version": "3.12.9"
  }
 },
 "nbformat": 4,
 "nbformat_minor": 2
}
