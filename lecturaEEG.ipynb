{
 "cells": [
  {
   "cell_type": "code",
   "execution_count": 1,
   "id": "b4e5c246",
   "metadata": {},
   "outputs": [],
   "source": [
    "import scipy"
   ]
  },
  {
   "cell_type": "code",
   "execution_count": 2,
   "id": "3b780c7a",
   "metadata": {},
   "outputs": [
    {
     "ename": "AttributeError",
     "evalue": "module 'scipy' has no attribute 'io'",
     "output_type": "error",
     "traceback": [
      "\u001b[1;31m---------------------------------------------------------------------------\u001b[0m",
      "\u001b[1;31mAttributeError\u001b[0m                            Traceback (most recent call last)",
      "\u001b[1;32m~\\AppData\\Local\\Temp\\ipykernel_35348\\3281185926.py\u001b[0m in \u001b[0;36m<module>\u001b[1;34m\u001b[0m\n\u001b[1;32m----> 1\u001b[1;33m \u001b[0mmat\u001b[0m \u001b[1;33m=\u001b[0m \u001b[0mscipy\u001b[0m\u001b[1;33m.\u001b[0m\u001b[0mio\u001b[0m\u001b[1;33m.\u001b[0m\u001b[0mloadmat\u001b[0m\u001b[1;33m(\u001b[0m\u001b[1;34m'MR001A.mat'\u001b[0m\u001b[1;33m)\u001b[0m\u001b[1;33m\u001b[0m\u001b[1;33m\u001b[0m\u001b[0m\n\u001b[0m\u001b[0;32m      2\u001b[0m \u001b[0mmat\u001b[0m\u001b[1;33m\u001b[0m\u001b[1;33m\u001b[0m\u001b[0m\n",
      "\u001b[1;31mAttributeError\u001b[0m: module 'scipy' has no attribute 'io'"
     ]
    }
   ],
   "source": [
    "mat = scipy.io.loadmat('MR001A.mat')\n",
    "mat"
   ]
  },
  {
   "cell_type": "markdown",
   "id": "2f7a8744",
   "metadata": {},
   "source": []
  },
  {
   "cell_type": "code",
   "execution_count": 7,
   "id": "00a2c047",
   "metadata": {},
   "outputs": [
    {
     "data": {
      "text/plain": [
       "{'__header__': b'MATLAB 5.0 MAT-file, Platform: PCWIN64, Created on: Tue Oct 22 13:59:07 2024',\n",
       " '__version__': '1.0',\n",
       " '__globals__': [],\n",
       " 'matriz_resultante': array([[ -624.4,  -628.9,  -634.1, ...,  -535.2,  -533.2,  -531.5],\n",
       "        [ -679.2,  -681.3,  -682.8, ...,  -644.7,  -642.6,  -641.2],\n",
       "        [ -688.5,  -689.5,  -689.7, ...,  -623.5,  -621.2,  -619.3],\n",
       "        ...,\n",
       "        [ -678.2,  -680.5,  -681.9, ...,  -638.4,  -636.4,  -634.8],\n",
       "        [ -659.9,  -660.7,  -660.9, ...,  -620.3,  -617.4,  -616.2],\n",
       "        [ -602.7,  -622.8,  -672.3, ..., -1078.7,  -836.1,  -536.3]])}"
      ]
     },
     "execution_count": 7,
     "metadata": {},
     "output_type": "execute_result"
    }
   ],
   "source": [
    "mat"
   ]
  },
  {
   "cell_type": "code",
   "execution_count": 8,
   "id": "1ba237f7",
   "metadata": {},
   "outputs": [
    {
     "name": "stdout",
     "output_type": "stream",
     "text": [
      "(32, 96000)\n"
     ]
    },
    {
     "data": {
      "text/plain": [
       "array([[ -624.4,  -628.9,  -634.1, ...,  -535.2,  -533.2,  -531.5],\n",
       "       [ -679.2,  -681.3,  -682.8, ...,  -644.7,  -642.6,  -641.2],\n",
       "       [ -688.5,  -689.5,  -689.7, ...,  -623.5,  -621.2,  -619.3],\n",
       "       ...,\n",
       "       [ -678.2,  -680.5,  -681.9, ...,  -638.4,  -636.4,  -634.8],\n",
       "       [ -659.9,  -660.7,  -660.9, ...,  -620.3,  -617.4,  -616.2],\n",
       "       [ -602.7,  -622.8,  -672.3, ..., -1078.7,  -836.1,  -536.3]])"
      ]
     },
     "execution_count": 8,
     "metadata": {},
     "output_type": "execute_result"
    }
   ],
   "source": [
    "data = mat['matriz_resultante']\n",
    "print(data.shape)\n",
    "data"
   ]
  },
  {
   "cell_type": "code",
   "execution_count": null,
   "id": "9fe702d4",
   "metadata": {},
   "outputs": [],
   "source": []
  }
 ],
 "metadata": {
  "kernelspec": {
   "display_name": "tfradeon",
   "language": "python",
   "name": "python3"
  },
  "language_info": {
   "codemirror_mode": {
    "name": "ipython",
    "version": 3
   },
   "file_extension": ".py",
   "mimetype": "text/x-python",
   "name": "python",
   "nbconvert_exporter": "python",
   "pygments_lexer": "ipython3",
   "version": "3.7.16"
  }
 },
 "nbformat": 4,
 "nbformat_minor": 5
}
