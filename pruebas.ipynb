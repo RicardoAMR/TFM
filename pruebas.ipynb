{
  "cells": [
    {
      "cell_type": "code",
      "execution_count": 1,
      "metadata": {
        "colab": {
          "base_uri": "https://localhost:8080/"
        },
        "id": "sMk0BWaMkstv",
        "outputId": "9b0fdaf6-1031-4724-dddd-2dc564c78bc8"
      },
      "outputs": [
        {
          "output_type": "stream",
          "name": "stdout",
          "text": [
            "Mounted at /content/drive\n"
          ]
        }
      ],
      "source": [
        "from google.colab import drive\n",
        "drive.mount('/content/drive')"
      ]
    },
    {
      "cell_type": "code",
      "execution_count": 2,
      "metadata": {
        "colab": {
          "base_uri": "https://localhost:8080/"
        },
        "id": "q__-PG92lxI9",
        "outputId": "aeecd2fc-846a-4554-81f8-be47474719a4"
      },
      "outputs": [
        {
          "output_type": "stream",
          "name": "stdout",
          "text": [
            "/content/drive/MyDrive/Colab Notebooks/TFM\n"
          ]
        }
      ],
      "source": [
        "%cd '/content/drive/MyDrive/Colab Notebooks/TFM'"
      ]
    },
    {
      "cell_type": "code",
      "execution_count": 3,
      "metadata": {
        "id": "UkJoWLvxjep0"
      },
      "outputs": [],
      "source": [
        "from sklearn.model_selection import train_test_split\n",
        "from sklearn.metrics import mean_squared_error, confusion_matrix\n",
        "import numpy as np\n",
        "import tensorflow as tf\n",
        "from tensorflow import keras\n",
        "from keras import Sequential\n",
        "from keras.layers import *\n",
        "from keras.optimizers import Adam, SGD\n",
        "from keras.callbacks import EarlyStopping\n",
        "from sklearn.preprocessing import LabelEncoder"
      ]
    },
    {
      "cell_type": "code",
      "execution_count": 4,
      "metadata": {
        "id": "u3q8EQJvjep4"
      },
      "outputs": [],
      "source": [
        "with open('dataset_X_sliding_window.npy', 'rb') as f:\n",
        "    X_data = np.load(f, allow_pickle=True)\n",
        "with open('dataset_y_sliding_window.npy', 'rb') as f:\n",
        "    y_data = np.load(f, allow_pickle=True)"
      ]
    },
    {
      "cell_type": "code",
      "execution_count": 5,
      "metadata": {
        "id": "Jnn0M2YdkjeH"
      },
      "outputs": [],
      "source": [
        "X_train, X_test, y_train, y_test = train_test_split(X_data, y_data, test_size = 0.2, random_state=42)\n",
        "X_train, X_val, y_train, y_val = train_test_split(X_train, y_train, test_size = 0.25, random_state=42)"
      ]
    },
    {
      "cell_type": "code",
      "execution_count": 6,
      "metadata": {
        "id": "BJFRW_8lklAn"
      },
      "outputs": [],
      "source": [
        "encoder = LabelEncoder()\n",
        "y_train = encoder.fit_transform(y_train)\n",
        "y_val = encoder.transform(y_val)\n",
        "y_test = encoder.transform(y_test)"
      ]
    },
    {
      "cell_type": "code",
      "execution_count": 12,
      "metadata": {
        "colab": {
          "base_uri": "https://localhost:8080/",
          "height": 257
        },
        "id": "hJI8Lj11kmjn",
        "outputId": "15a5f26b-7617-4f98-8c3d-9ee6a44af69b"
      },
      "outputs": [
        {
          "output_type": "display_data",
          "data": {
            "text/plain": [
              "\u001b[1mModel: \"sequential_2\"\u001b[0m\n"
            ],
            "text/html": [
              "<pre style=\"white-space:pre;overflow-x:auto;line-height:normal;font-family:Menlo,'DejaVu Sans Mono',consolas,'Courier New',monospace\"><span style=\"font-weight: bold\">Model: \"sequential_2\"</span>\n",
              "</pre>\n"
            ]
          },
          "metadata": {}
        },
        {
          "output_type": "display_data",
          "data": {
            "text/plain": [
              "┏━━━━━━━━━━━━━━━━━━━━━━━━━━━━━━━━━━━━━━┳━━━━━━━━━━━━━━━━━━━━━━━━━━━━━┳━━━━━━━━━━━━━━━━━┓\n",
              "┃\u001b[1m \u001b[0m\u001b[1mLayer (type)                        \u001b[0m\u001b[1m \u001b[0m┃\u001b[1m \u001b[0m\u001b[1mOutput Shape               \u001b[0m\u001b[1m \u001b[0m┃\u001b[1m \u001b[0m\u001b[1m        Param #\u001b[0m\u001b[1m \u001b[0m┃\n",
              "┡━━━━━━━━━━━━━━━━━━━━━━━━━━━━━━━━━━━━━━╇━━━━━━━━━━━━━━━━━━━━━━━━━━━━━╇━━━━━━━━━━━━━━━━━┩\n",
              "│ lstm_4 (\u001b[38;5;33mLSTM\u001b[0m)                        │ (\u001b[38;5;45mNone\u001b[0m, \u001b[38;5;34m64\u001b[0m, \u001b[38;5;34m64\u001b[0m)              │          \u001b[38;5;34m24,832\u001b[0m │\n",
              "├──────────────────────────────────────┼─────────────────────────────┼─────────────────┤\n",
              "│ lstm_5 (\u001b[38;5;33mLSTM\u001b[0m)                        │ (\u001b[38;5;45mNone\u001b[0m, \u001b[38;5;34m128\u001b[0m)                 │          \u001b[38;5;34m98,816\u001b[0m │\n",
              "├──────────────────────────────────────┼─────────────────────────────┼─────────────────┤\n",
              "│ dropout_2 (\u001b[38;5;33mDropout\u001b[0m)                  │ (\u001b[38;5;45mNone\u001b[0m, \u001b[38;5;34m128\u001b[0m)                 │               \u001b[38;5;34m0\u001b[0m │\n",
              "├──────────────────────────────────────┼─────────────────────────────┼─────────────────┤\n",
              "│ dense_2 (\u001b[38;5;33mDense\u001b[0m)                      │ (\u001b[38;5;45mNone\u001b[0m, \u001b[38;5;34m3\u001b[0m)                   │             \u001b[38;5;34m387\u001b[0m │\n",
              "└──────────────────────────────────────┴─────────────────────────────┴─────────────────┘\n"
            ],
            "text/html": [
              "<pre style=\"white-space:pre;overflow-x:auto;line-height:normal;font-family:Menlo,'DejaVu Sans Mono',consolas,'Courier New',monospace\">┏━━━━━━━━━━━━━━━━━━━━━━━━━━━━━━━━━━━━━━┳━━━━━━━━━━━━━━━━━━━━━━━━━━━━━┳━━━━━━━━━━━━━━━━━┓\n",
              "┃<span style=\"font-weight: bold\"> Layer (type)                         </span>┃<span style=\"font-weight: bold\"> Output Shape                </span>┃<span style=\"font-weight: bold\">         Param # </span>┃\n",
              "┡━━━━━━━━━━━━━━━━━━━━━━━━━━━━━━━━━━━━━━╇━━━━━━━━━━━━━━━━━━━━━━━━━━━━━╇━━━━━━━━━━━━━━━━━┩\n",
              "│ lstm_4 (<span style=\"color: #0087ff; text-decoration-color: #0087ff\">LSTM</span>)                        │ (<span style=\"color: #00d7ff; text-decoration-color: #00d7ff\">None</span>, <span style=\"color: #00af00; text-decoration-color: #00af00\">64</span>, <span style=\"color: #00af00; text-decoration-color: #00af00\">64</span>)              │          <span style=\"color: #00af00; text-decoration-color: #00af00\">24,832</span> │\n",
              "├──────────────────────────────────────┼─────────────────────────────┼─────────────────┤\n",
              "│ lstm_5 (<span style=\"color: #0087ff; text-decoration-color: #0087ff\">LSTM</span>)                        │ (<span style=\"color: #00d7ff; text-decoration-color: #00d7ff\">None</span>, <span style=\"color: #00af00; text-decoration-color: #00af00\">128</span>)                 │          <span style=\"color: #00af00; text-decoration-color: #00af00\">98,816</span> │\n",
              "├──────────────────────────────────────┼─────────────────────────────┼─────────────────┤\n",
              "│ dropout_2 (<span style=\"color: #0087ff; text-decoration-color: #0087ff\">Dropout</span>)                  │ (<span style=\"color: #00d7ff; text-decoration-color: #00d7ff\">None</span>, <span style=\"color: #00af00; text-decoration-color: #00af00\">128</span>)                 │               <span style=\"color: #00af00; text-decoration-color: #00af00\">0</span> │\n",
              "├──────────────────────────────────────┼─────────────────────────────┼─────────────────┤\n",
              "│ dense_2 (<span style=\"color: #0087ff; text-decoration-color: #0087ff\">Dense</span>)                      │ (<span style=\"color: #00d7ff; text-decoration-color: #00d7ff\">None</span>, <span style=\"color: #00af00; text-decoration-color: #00af00\">3</span>)                   │             <span style=\"color: #00af00; text-decoration-color: #00af00\">387</span> │\n",
              "└──────────────────────────────────────┴─────────────────────────────┴─────────────────┘\n",
              "</pre>\n"
            ]
          },
          "metadata": {}
        },
        {
          "output_type": "display_data",
          "data": {
            "text/plain": [
              "\u001b[1m Total params: \u001b[0m\u001b[38;5;34m124,035\u001b[0m (484.51 KB)\n"
            ],
            "text/html": [
              "<pre style=\"white-space:pre;overflow-x:auto;line-height:normal;font-family:Menlo,'DejaVu Sans Mono',consolas,'Courier New',monospace\"><span style=\"font-weight: bold\"> Total params: </span><span style=\"color: #00af00; text-decoration-color: #00af00\">124,035</span> (484.51 KB)\n",
              "</pre>\n"
            ]
          },
          "metadata": {}
        },
        {
          "output_type": "display_data",
          "data": {
            "text/plain": [
              "\u001b[1m Trainable params: \u001b[0m\u001b[38;5;34m124,035\u001b[0m (484.51 KB)\n"
            ],
            "text/html": [
              "<pre style=\"white-space:pre;overflow-x:auto;line-height:normal;font-family:Menlo,'DejaVu Sans Mono',consolas,'Courier New',monospace\"><span style=\"font-weight: bold\"> Trainable params: </span><span style=\"color: #00af00; text-decoration-color: #00af00\">124,035</span> (484.51 KB)\n",
              "</pre>\n"
            ]
          },
          "metadata": {}
        },
        {
          "output_type": "display_data",
          "data": {
            "text/plain": [
              "\u001b[1m Non-trainable params: \u001b[0m\u001b[38;5;34m0\u001b[0m (0.00 B)\n"
            ],
            "text/html": [
              "<pre style=\"white-space:pre;overflow-x:auto;line-height:normal;font-family:Menlo,'DejaVu Sans Mono',consolas,'Courier New',monospace\"><span style=\"font-weight: bold\"> Non-trainable params: </span><span style=\"color: #00af00; text-decoration-color: #00af00\">0</span> (0.00 B)\n",
              "</pre>\n"
            ]
          },
          "metadata": {}
        }
      ],
      "source": [
        "input_shape = (64, 32)\n",
        "opt = Adam(0.001)\n",
        "rnn_model = Sequential()\n",
        "drp=0.2\n",
        "\n",
        "rnn_model.add(Input(shape=input_shape))\n",
        "#rnn_model.add(BatchNormalization())\n",
        "rnn_model.add(LSTM((64), return_sequences=True))\n",
        "rnn_model.add(LSTM((128)))\n",
        "rnn_model.add(Dropout(drp))\n",
        "rnn_model.add(Dense(3, activation='softmax'))\n",
        "rnn_model.compile(loss=keras.losses.SparseCategoricalCrossentropy(),\n",
        "optimizer=opt,\n",
        "metrics=[\"accuracy\"])\n",
        "rnn_model.summary()"
      ]
    },
    {
      "cell_type": "code",
      "execution_count": null,
      "metadata": {
        "colab": {
          "base_uri": "https://localhost:8080/"
        },
        "id": "5zh7n-lakxII",
        "outputId": "5771ad23-c37e-4d2d-9d1d-8e18c46825a5"
      },
      "outputs": [
        {
          "output_type": "stream",
          "name": "stdout",
          "text": [
            "Epoch 1/1000\n",
            "\u001b[1m3375/3375\u001b[0m \u001b[32m━━━━━━━━━━━━━━━━━━━━\u001b[0m\u001b[37m\u001b[0m \u001b[1m39s\u001b[0m 10ms/step - accuracy: 0.3634 - loss: 1.0971 - val_accuracy: 0.3970 - val_loss: 1.0728\n",
            "Epoch 2/1000\n",
            "\u001b[1m3375/3375\u001b[0m \u001b[32m━━━━━━━━━━━━━━━━━━━━\u001b[0m\u001b[37m\u001b[0m \u001b[1m37s\u001b[0m 10ms/step - accuracy: 0.4041 - loss: 1.0720 - val_accuracy: 0.4091 - val_loss: 1.0626\n",
            "Epoch 3/1000\n",
            "\u001b[1m3375/3375\u001b[0m \u001b[32m━━━━━━━━━━━━━━━━━━━━\u001b[0m\u001b[37m\u001b[0m \u001b[1m42s\u001b[0m 10ms/step - accuracy: 0.4257 - loss: 1.0523 - val_accuracy: 0.4383 - val_loss: 1.0390\n",
            "Epoch 4/1000\n",
            "\u001b[1m3375/3375\u001b[0m \u001b[32m━━━━━━━━━━━━━━━━━━━━\u001b[0m\u001b[37m\u001b[0m \u001b[1m41s\u001b[0m 10ms/step - accuracy: 0.4442 - loss: 1.0342 - val_accuracy: 0.4588 - val_loss: 1.0255\n",
            "Epoch 5/1000\n",
            "\u001b[1m3375/3375\u001b[0m \u001b[32m━━━━━━━━━━━━━━━━━━━━\u001b[0m\u001b[37m\u001b[0m \u001b[1m46s\u001b[0m 12ms/step - accuracy: 0.4705 - loss: 1.0063 - val_accuracy: 0.4786 - val_loss: 0.9948\n",
            "Epoch 6/1000\n",
            "\u001b[1m3375/3375\u001b[0m \u001b[32m━━━━━━━━━━━━━━━━━━━━\u001b[0m\u001b[37m\u001b[0m \u001b[1m41s\u001b[0m 12ms/step - accuracy: 0.4896 - loss: 0.9808 - val_accuracy: 0.4935 - val_loss: 0.9759\n",
            "Epoch 7/1000\n",
            "\u001b[1m3375/3375\u001b[0m \u001b[32m━━━━━━━━━━━━━━━━━━━━\u001b[0m\u001b[37m\u001b[0m \u001b[1m36s\u001b[0m 10ms/step - accuracy: 0.5134 - loss: 0.9480 - val_accuracy: 0.5193 - val_loss: 0.9427\n",
            "Epoch 8/1000\n",
            "\u001b[1m3375/3375\u001b[0m \u001b[32m━━━━━━━━━━━━━━━━━━━━\u001b[0m\u001b[37m\u001b[0m \u001b[1m33s\u001b[0m 10ms/step - accuracy: 0.5388 - loss: 0.9138 - val_accuracy: 0.5330 - val_loss: 0.9209\n",
            "Epoch 9/1000\n",
            "\u001b[1m3375/3375\u001b[0m \u001b[32m━━━━━━━━━━━━━━━━━━━━\u001b[0m\u001b[37m\u001b[0m \u001b[1m42s\u001b[0m 10ms/step - accuracy: 0.5537 - loss: 0.8883 - val_accuracy: 0.5534 - val_loss: 0.8940\n",
            "Epoch 10/1000\n",
            "\u001b[1m3375/3375\u001b[0m \u001b[32m━━━━━━━━━━━━━━━━━━━━\u001b[0m\u001b[37m\u001b[0m \u001b[1m41s\u001b[0m 10ms/step - accuracy: 0.5778 - loss: 0.8546 - val_accuracy: 0.5765 - val_loss: 0.8628\n",
            "Epoch 11/1000\n",
            "\u001b[1m3375/3375\u001b[0m \u001b[32m━━━━━━━━━━━━━━━━━━━━\u001b[0m\u001b[37m\u001b[0m \u001b[1m42s\u001b[0m 10ms/step - accuracy: 0.6011 - loss: 0.8163 - val_accuracy: 0.5896 - val_loss: 0.8388\n",
            "Epoch 12/1000\n",
            "\u001b[1m3375/3375\u001b[0m \u001b[32m━━━━━━━━━━━━━━━━━━━━\u001b[0m\u001b[37m\u001b[0m \u001b[1m40s\u001b[0m 10ms/step - accuracy: 0.6184 - loss: 0.7864 - val_accuracy: 0.6070 - val_loss: 0.8072\n",
            "Epoch 13/1000\n",
            "\u001b[1m3375/3375\u001b[0m \u001b[32m━━━━━━━━━━━━━━━━━━━━\u001b[0m\u001b[37m\u001b[0m \u001b[1m42s\u001b[0m 10ms/step - accuracy: 0.6357 - loss: 0.7594 - val_accuracy: 0.6157 - val_loss: 0.8023\n",
            "Epoch 14/1000\n",
            "\u001b[1m3375/3375\u001b[0m \u001b[32m━━━━━━━━━━━━━━━━━━━━\u001b[0m\u001b[37m\u001b[0m \u001b[1m41s\u001b[0m 10ms/step - accuracy: 0.6492 - loss: 0.7349 - val_accuracy: 0.6410 - val_loss: 0.7527\n",
            "Epoch 15/1000\n",
            "\u001b[1m3375/3375\u001b[0m \u001b[32m━━━━━━━━━━━━━━━━━━━━\u001b[0m\u001b[37m\u001b[0m \u001b[1m33s\u001b[0m 10ms/step - accuracy: 0.6629 - loss: 0.7064 - val_accuracy: 0.6528 - val_loss: 0.7421\n",
            "Epoch 16/1000\n",
            "\u001b[1m3375/3375\u001b[0m \u001b[32m━━━━━━━━━━━━━━━━━━━━\u001b[0m\u001b[37m\u001b[0m \u001b[1m34s\u001b[0m 10ms/step - accuracy: 0.6782 - loss: 0.6782 - val_accuracy: 0.6562 - val_loss: 0.7313\n",
            "Epoch 17/1000\n",
            "\u001b[1m3375/3375\u001b[0m \u001b[32m━━━━━━━━━━━━━━━━━━━━\u001b[0m\u001b[37m\u001b[0m \u001b[1m41s\u001b[0m 10ms/step - accuracy: 0.6880 - loss: 0.6556 - val_accuracy: 0.6672 - val_loss: 0.7065\n",
            "Epoch 18/1000\n",
            "\u001b[1m3375/3375\u001b[0m \u001b[32m━━━━━━━━━━━━━━━━━━━━\u001b[0m\u001b[37m\u001b[0m \u001b[1m42s\u001b[0m 10ms/step - accuracy: 0.6993 - loss: 0.6326 - val_accuracy: 0.6848 - val_loss: 0.6744\n",
            "Epoch 19/1000\n",
            "\u001b[1m3375/3375\u001b[0m \u001b[32m━━━━━━━━━━━━━━━━━━━━\u001b[0m\u001b[37m\u001b[0m \u001b[1m39s\u001b[0m 10ms/step - accuracy: 0.7135 - loss: 0.6117 - val_accuracy: 0.6895 - val_loss: 0.6666\n",
            "Epoch 20/1000\n",
            "\u001b[1m3375/3375\u001b[0m \u001b[32m━━━━━━━━━━━━━━━━━━━━\u001b[0m\u001b[37m\u001b[0m \u001b[1m39s\u001b[0m 12ms/step - accuracy: 0.7189 - loss: 0.5992 - val_accuracy: 0.6926 - val_loss: 0.6607\n",
            "Epoch 21/1000\n",
            "\u001b[1m3375/3375\u001b[0m \u001b[32m━━━━━━━━━━━━━━━━━━━━\u001b[0m\u001b[37m\u001b[0m \u001b[1m36s\u001b[0m 10ms/step - accuracy: 0.7236 - loss: 0.5869 - val_accuracy: 0.6955 - val_loss: 0.6569\n",
            "Epoch 22/1000\n",
            "\u001b[1m3375/3375\u001b[0m \u001b[32m━━━━━━━━━━━━━━━━━━━━\u001b[0m\u001b[37m\u001b[0m \u001b[1m41s\u001b[0m 10ms/step - accuracy: 0.7330 - loss: 0.5727 - val_accuracy: 0.7016 - val_loss: 0.6357\n",
            "Epoch 23/1000\n",
            "\u001b[1m3375/3375\u001b[0m \u001b[32m━━━━━━━━━━━━━━━━━━━━\u001b[0m\u001b[37m\u001b[0m \u001b[1m40s\u001b[0m 10ms/step - accuracy: 0.7429 - loss: 0.5502 - val_accuracy: 0.7119 - val_loss: 0.6249\n",
            "Epoch 24/1000\n",
            "\u001b[1m3375/3375\u001b[0m \u001b[32m━━━━━━━━━━━━━━━━━━━━\u001b[0m\u001b[37m\u001b[0m \u001b[1m42s\u001b[0m 10ms/step - accuracy: 0.7433 - loss: 0.5452 - val_accuracy: 0.7212 - val_loss: 0.5948\n",
            "Epoch 25/1000\n",
            "\u001b[1m3375/3375\u001b[0m \u001b[32m━━━━━━━━━━━━━━━━━━━━\u001b[0m\u001b[37m\u001b[0m \u001b[1m41s\u001b[0m 10ms/step - accuracy: 0.7579 - loss: 0.5208 - val_accuracy: 0.7261 - val_loss: 0.5943\n",
            "Epoch 26/1000\n",
            "\u001b[1m3375/3375\u001b[0m \u001b[32m━━━━━━━━━━━━━━━━━━━━\u001b[0m\u001b[37m\u001b[0m \u001b[1m41s\u001b[0m 10ms/step - accuracy: 0.7584 - loss: 0.5150 - val_accuracy: 0.7346 - val_loss: 0.5814\n",
            "Epoch 27/1000\n",
            "\u001b[1m3375/3375\u001b[0m \u001b[32m━━━━━━━━━━━━━━━━━━━━\u001b[0m\u001b[37m\u001b[0m \u001b[1m34s\u001b[0m 10ms/step - accuracy: 0.7676 - loss: 0.4958 - val_accuracy: 0.7389 - val_loss: 0.5634\n",
            "Epoch 28/1000\n",
            "\u001b[1m3375/3375\u001b[0m \u001b[32m━━━━━━━━━━━━━━━━━━━━\u001b[0m\u001b[37m\u001b[0m \u001b[1m41s\u001b[0m 10ms/step - accuracy: 0.7726 - loss: 0.4874 - val_accuracy: 0.7402 - val_loss: 0.5684\n",
            "Epoch 29/1000\n",
            "\u001b[1m3375/3375\u001b[0m \u001b[32m━━━━━━━━━━━━━━━━━━━━\u001b[0m\u001b[37m\u001b[0m \u001b[1m41s\u001b[0m 10ms/step - accuracy: 0.7772 - loss: 0.4780 - val_accuracy: 0.7437 - val_loss: 0.5591\n",
            "Epoch 30/1000\n",
            "\u001b[1m3375/3375\u001b[0m \u001b[32m━━━━━━━━━━━━━━━━━━━━\u001b[0m\u001b[37m\u001b[0m \u001b[1m41s\u001b[0m 10ms/step - accuracy: 0.7758 - loss: 0.4796 - val_accuracy: 0.7481 - val_loss: 0.5556\n",
            "Epoch 31/1000\n",
            "\u001b[1m3375/3375\u001b[0m \u001b[32m━━━━━━━━━━━━━━━━━━━━\u001b[0m\u001b[37m\u001b[0m \u001b[1m41s\u001b[0m 10ms/step - accuracy: 0.7812 - loss: 0.4690 - val_accuracy: 0.7539 - val_loss: 0.5390\n",
            "Epoch 32/1000\n",
            "\u001b[1m3375/3375\u001b[0m \u001b[32m━━━━━━━━━━━━━━━━━━━━\u001b[0m\u001b[37m\u001b[0m \u001b[1m34s\u001b[0m 10ms/step - accuracy: 0.7854 - loss: 0.4569 - val_accuracy: 0.7520 - val_loss: 0.5443\n",
            "Epoch 33/1000\n",
            "\u001b[1m3375/3375\u001b[0m \u001b[32m━━━━━━━━━━━━━━━━━━━━\u001b[0m\u001b[37m\u001b[0m \u001b[1m42s\u001b[0m 10ms/step - accuracy: 0.7866 - loss: 0.4599 - val_accuracy: 0.7668 - val_loss: 0.5095\n",
            "Epoch 34/1000\n",
            "\u001b[1m3375/3375\u001b[0m \u001b[32m━━━━━━━━━━━━━━━━━━━━\u001b[0m\u001b[37m\u001b[0m \u001b[1m41s\u001b[0m 10ms/step - accuracy: 0.7928 - loss: 0.4396 - val_accuracy: 0.7559 - val_loss: 0.5259\n",
            "Epoch 35/1000\n",
            "\u001b[1m3375/3375\u001b[0m \u001b[32m━━━━━━━━━━━━━━━━━━━━\u001b[0m\u001b[37m\u001b[0m \u001b[1m42s\u001b[0m 11ms/step - accuracy: 0.7981 - loss: 0.4319 - val_accuracy: 0.7718 - val_loss: 0.5006\n",
            "Epoch 36/1000\n",
            "\u001b[1m3375/3375\u001b[0m \u001b[32m━━━━━━━━━━━━━━━━━━━━\u001b[0m\u001b[37m\u001b[0m \u001b[1m34s\u001b[0m 10ms/step - accuracy: 0.7983 - loss: 0.4293 - val_accuracy: 0.7669 - val_loss: 0.5016\n",
            "Epoch 37/1000\n",
            "\u001b[1m3375/3375\u001b[0m \u001b[32m━━━━━━━━━━━━━━━━━━━━\u001b[0m\u001b[37m\u001b[0m \u001b[1m33s\u001b[0m 10ms/step - accuracy: 0.7969 - loss: 0.4275 - val_accuracy: 0.7667 - val_loss: 0.5110\n",
            "Epoch 38/1000\n",
            "\u001b[1m3375/3375\u001b[0m \u001b[32m━━━━━━━━━━━━━━━━━━━━\u001b[0m\u001b[37m\u001b[0m \u001b[1m35s\u001b[0m 10ms/step - accuracy: 0.7996 - loss: 0.4233 - val_accuracy: 0.7716 - val_loss: 0.5009\n",
            "Epoch 39/1000\n",
            "\u001b[1m3375/3375\u001b[0m \u001b[32m━━━━━━━━━━━━━━━━━━━━\u001b[0m\u001b[37m\u001b[0m \u001b[1m41s\u001b[0m 10ms/step - accuracy: 0.8030 - loss: 0.4183 - val_accuracy: 0.7824 - val_loss: 0.4801\n",
            "Epoch 40/1000\n",
            "\u001b[1m3375/3375\u001b[0m \u001b[32m━━━━━━━━━━━━━━━━━━━━\u001b[0m\u001b[37m\u001b[0m \u001b[1m34s\u001b[0m 10ms/step - accuracy: 0.8077 - loss: 0.4092 - val_accuracy: 0.7708 - val_loss: 0.5054\n",
            "Epoch 41/1000\n",
            "\u001b[1m3375/3375\u001b[0m \u001b[32m━━━━━━━━━━━━━━━━━━━━\u001b[0m\u001b[37m\u001b[0m \u001b[1m47s\u001b[0m 12ms/step - accuracy: 0.8068 - loss: 0.4106 - val_accuracy: 0.7775 - val_loss: 0.4899\n",
            "Epoch 42/1000\n",
            "\u001b[1m3375/3375\u001b[0m \u001b[32m━━━━━━━━━━━━━━━━━━━━\u001b[0m\u001b[37m\u001b[0m \u001b[1m36s\u001b[0m 10ms/step - accuracy: 0.8105 - loss: 0.4009 - val_accuracy: 0.7800 - val_loss: 0.4805\n",
            "Epoch 43/1000\n",
            "\u001b[1m3375/3375\u001b[0m \u001b[32m━━━━━━━━━━━━━━━━━━━━\u001b[0m\u001b[37m\u001b[0m \u001b[1m42s\u001b[0m 10ms/step - accuracy: 0.8140 - loss: 0.3921 - val_accuracy: 0.7885 - val_loss: 0.4671\n",
            "Epoch 44/1000\n",
            "\u001b[1m3375/3375\u001b[0m \u001b[32m━━━━━━━━━━━━━━━━━━━━\u001b[0m\u001b[37m\u001b[0m \u001b[1m40s\u001b[0m 10ms/step - accuracy: 0.8166 - loss: 0.3871 - val_accuracy: 0.7854 - val_loss: 0.4674\n",
            "Epoch 45/1000\n",
            "\u001b[1m3375/3375\u001b[0m \u001b[32m━━━━━━━━━━━━━━━━━━━━\u001b[0m\u001b[37m\u001b[0m \u001b[1m41s\u001b[0m 10ms/step - accuracy: 0.8171 - loss: 0.3862 - val_accuracy: 0.7952 - val_loss: 0.4430\n",
            "Epoch 46/1000\n",
            "\u001b[1m3375/3375\u001b[0m \u001b[32m━━━━━━━━━━━━━━━━━━━━\u001b[0m\u001b[37m\u001b[0m \u001b[1m41s\u001b[0m 10ms/step - accuracy: 0.8184 - loss: 0.3832 - val_accuracy: 0.7940 - val_loss: 0.4444\n",
            "Epoch 47/1000\n",
            "\u001b[1m3375/3375\u001b[0m \u001b[32m━━━━━━━━━━━━━━━━━━━━\u001b[0m\u001b[37m\u001b[0m \u001b[1m46s\u001b[0m 12ms/step - accuracy: 0.8240 - loss: 0.3741 - val_accuracy: 0.7870 - val_loss: 0.4643\n",
            "Epoch 48/1000\n",
            "\u001b[1m3375/3375\u001b[0m \u001b[32m━━━━━━━━━━━━━━━━━━━━\u001b[0m\u001b[37m\u001b[0m \u001b[1m37s\u001b[0m 10ms/step - accuracy: 0.8208 - loss: 0.3803 - val_accuracy: 0.7929 - val_loss: 0.4506\n",
            "Epoch 49/1000\n",
            "\u001b[1m3375/3375\u001b[0m \u001b[32m━━━━━━━━━━━━━━━━━━━━\u001b[0m\u001b[37m\u001b[0m \u001b[1m40s\u001b[0m 10ms/step - accuracy: 0.8267 - loss: 0.3655 - val_accuracy: 0.7926 - val_loss: 0.4577\n",
            "Epoch 50/1000\n",
            "\u001b[1m3375/3375\u001b[0m \u001b[32m━━━━━━━━━━━━━━━━━━━━\u001b[0m\u001b[37m\u001b[0m \u001b[1m41s\u001b[0m 10ms/step - accuracy: 0.8251 - loss: 0.3691 - val_accuracy: 0.7911 - val_loss: 0.4670\n",
            "Epoch 51/1000\n",
            "\u001b[1m3375/3375\u001b[0m \u001b[32m━━━━━━━━━━━━━━━━━━━━\u001b[0m\u001b[37m\u001b[0m \u001b[1m41s\u001b[0m 10ms/step - accuracy: 0.8244 - loss: 0.3745 - val_accuracy: 0.8025 - val_loss: 0.4432\n",
            "Epoch 52/1000\n",
            "\u001b[1m3375/3375\u001b[0m \u001b[32m━━━━━━━━━━━━━━━━━━━━\u001b[0m\u001b[37m\u001b[0m \u001b[1m46s\u001b[0m 12ms/step - accuracy: 0.8231 - loss: 0.3711 - val_accuracy: 0.7947 - val_loss: 0.4506\n",
            "Epoch 53/1000\n",
            "\u001b[1m3375/3375\u001b[0m \u001b[32m━━━━━━━━━━━━━━━━━━━━\u001b[0m\u001b[37m\u001b[0m \u001b[1m36s\u001b[0m 10ms/step - accuracy: 0.8274 - loss: 0.3630 - val_accuracy: 0.7932 - val_loss: 0.4585\n",
            "Epoch 54/1000\n",
            "\u001b[1m3375/3375\u001b[0m \u001b[32m━━━━━━━━━━━━━━━━━━━━\u001b[0m\u001b[37m\u001b[0m \u001b[1m41s\u001b[0m 10ms/step - accuracy: 0.8273 - loss: 0.3643 - val_accuracy: 0.7926 - val_loss: 0.4511\n",
            "Epoch 55/1000\n",
            "\u001b[1m3375/3375\u001b[0m \u001b[32m━━━━━━━━━━━━━━━━━━━━\u001b[0m\u001b[37m\u001b[0m \u001b[1m41s\u001b[0m 10ms/step - accuracy: 0.8320 - loss: 0.3584 - val_accuracy: 0.8057 - val_loss: 0.4319\n",
            "Epoch 56/1000\n",
            "\u001b[1m3375/3375\u001b[0m \u001b[32m━━━━━━━━━━━━━━━━━━━━\u001b[0m\u001b[37m\u001b[0m \u001b[1m40s\u001b[0m 10ms/step - accuracy: 0.8339 - loss: 0.3481 - val_accuracy: 0.7990 - val_loss: 0.4380\n",
            "Epoch 57/1000\n",
            "\u001b[1m3375/3375\u001b[0m \u001b[32m━━━━━━━━━━━━━━━━━━━━\u001b[0m\u001b[37m\u001b[0m \u001b[1m41s\u001b[0m 10ms/step - accuracy: 0.8284 - loss: 0.3611 - val_accuracy: 0.8032 - val_loss: 0.4377\n",
            "Epoch 58/1000\n",
            "\u001b[1m3375/3375\u001b[0m \u001b[32m━━━━━━━━━━━━━━━━━━━━\u001b[0m\u001b[37m\u001b[0m \u001b[1m41s\u001b[0m 10ms/step - accuracy: 0.8350 - loss: 0.3481 - val_accuracy: 0.8021 - val_loss: 0.4412\n",
            "Epoch 59/1000\n",
            "\u001b[1m3375/3375\u001b[0m \u001b[32m━━━━━━━━━━━━━━━━━━━━\u001b[0m\u001b[37m\u001b[0m \u001b[1m41s\u001b[0m 10ms/step - accuracy: 0.8299 - loss: 0.3536 - val_accuracy: 0.8037 - val_loss: 0.4294\n",
            "Epoch 60/1000\n",
            "\u001b[1m3375/3375\u001b[0m \u001b[32m━━━━━━━━━━━━━━━━━━━━\u001b[0m\u001b[37m\u001b[0m \u001b[1m41s\u001b[0m 10ms/step - accuracy: 0.8359 - loss: 0.3493 - val_accuracy: 0.8107 - val_loss: 0.4355\n",
            "Epoch 61/1000\n",
            "\u001b[1m3375/3375\u001b[0m \u001b[32m━━━━━━━━━━━━━━━━━━━━\u001b[0m\u001b[37m\u001b[0m \u001b[1m34s\u001b[0m 10ms/step - accuracy: 0.8324 - loss: 0.3479 - val_accuracy: 0.8102 - val_loss: 0.4270\n",
            "Epoch 62/1000\n",
            "\u001b[1m3375/3375\u001b[0m \u001b[32m━━━━━━━━━━━━━━━━━━━━\u001b[0m\u001b[37m\u001b[0m \u001b[1m46s\u001b[0m 12ms/step - accuracy: 0.8372 - loss: 0.3434 - val_accuracy: 0.8051 - val_loss: 0.4314\n",
            "Epoch 63/1000\n",
            "\u001b[1m3375/3375\u001b[0m \u001b[32m━━━━━━━━━━━━━━━━━━━━\u001b[0m\u001b[37m\u001b[0m \u001b[1m34s\u001b[0m 10ms/step - accuracy: 0.8382 - loss: 0.3429 - val_accuracy: 0.8072 - val_loss: 0.4289\n",
            "Epoch 64/1000\n",
            "\u001b[1m3375/3375\u001b[0m \u001b[32m━━━━━━━━━━━━━━━━━━━━\u001b[0m\u001b[37m\u001b[0m \u001b[1m41s\u001b[0m 10ms/step - accuracy: 0.8395 - loss: 0.3390 - val_accuracy: 0.8116 - val_loss: 0.4193\n",
            "Epoch 65/1000\n",
            "\u001b[1m3375/3375\u001b[0m \u001b[32m━━━━━━━━━━━━━━━━━━━━\u001b[0m\u001b[37m\u001b[0m \u001b[1m33s\u001b[0m 10ms/step - accuracy: 0.8405 - loss: 0.3339 - val_accuracy: 0.8134 - val_loss: 0.4182\n",
            "Epoch 66/1000\n",
            "\u001b[1m3375/3375\u001b[0m \u001b[32m━━━━━━━━━━━━━━━━━━━━\u001b[0m\u001b[37m\u001b[0m \u001b[1m47s\u001b[0m 12ms/step - accuracy: 0.8422 - loss: 0.3339 - val_accuracy: 0.8122 - val_loss: 0.4138\n",
            "Epoch 67/1000\n",
            "\u001b[1m3375/3375\u001b[0m \u001b[32m━━━━━━━━━━━━━━━━━━━━\u001b[0m\u001b[37m\u001b[0m \u001b[1m41s\u001b[0m 12ms/step - accuracy: 0.8417 - loss: 0.3303 - val_accuracy: 0.8056 - val_loss: 0.4430\n",
            "Epoch 68/1000\n",
            "\u001b[1m3375/3375\u001b[0m \u001b[32m━━━━━━━━━━━━━━━━━━━━\u001b[0m\u001b[37m\u001b[0m \u001b[1m36s\u001b[0m 10ms/step - accuracy: 0.8434 - loss: 0.3325 - val_accuracy: 0.8079 - val_loss: 0.4258\n",
            "Epoch 69/1000\n",
            "\u001b[1m3375/3375\u001b[0m \u001b[32m━━━━━━━━━━━━━━━━━━━━\u001b[0m\u001b[37m\u001b[0m \u001b[1m42s\u001b[0m 10ms/step - accuracy: 0.8406 - loss: 0.3380 - val_accuracy: 0.8154 - val_loss: 0.4128\n",
            "Epoch 70/1000\n",
            "\u001b[1m3375/3375\u001b[0m \u001b[32m━━━━━━━━━━━━━━━━━━━━\u001b[0m\u001b[37m\u001b[0m \u001b[1m40s\u001b[0m 10ms/step - accuracy: 0.8438 - loss: 0.3290 - val_accuracy: 0.8180 - val_loss: 0.3994\n",
            "Epoch 71/1000\n",
            "\u001b[1m3375/3375\u001b[0m \u001b[32m━━━━━━━━━━━━━━━━━━━━\u001b[0m\u001b[37m\u001b[0m \u001b[1m34s\u001b[0m 10ms/step - accuracy: 0.8456 - loss: 0.3209 - val_accuracy: 0.8191 - val_loss: 0.4094\n",
            "Epoch 72/1000\n",
            "\u001b[1m3375/3375\u001b[0m \u001b[32m━━━━━━━━━━━━━━━━━━━━\u001b[0m\u001b[37m\u001b[0m \u001b[1m41s\u001b[0m 10ms/step - accuracy: 0.8416 - loss: 0.3276 - val_accuracy: 0.8111 - val_loss: 0.4120\n",
            "Epoch 73/1000\n",
            "\u001b[1m3375/3375\u001b[0m \u001b[32m━━━━━━━━━━━━━━━━━━━━\u001b[0m\u001b[37m\u001b[0m \u001b[1m34s\u001b[0m 10ms/step - accuracy: 0.8478 - loss: 0.3227 - val_accuracy: 0.8131 - val_loss: 0.4118\n",
            "Epoch 74/1000\n",
            "\u001b[1m3375/3375\u001b[0m \u001b[32m━━━━━━━━━━━━━━━━━━━━\u001b[0m\u001b[37m\u001b[0m \u001b[1m47s\u001b[0m 12ms/step - accuracy: 0.8465 - loss: 0.3243 - val_accuracy: 0.8175 - val_loss: 0.4059\n",
            "Epoch 75/1000\n",
            "\u001b[1m3375/3375\u001b[0m \u001b[32m━━━━━━━━━━━━━━━━━━━━\u001b[0m\u001b[37m\u001b[0m \u001b[1m36s\u001b[0m 10ms/step - accuracy: 0.8469 - loss: 0.3215 - val_accuracy: 0.8131 - val_loss: 0.4192\n",
            "Epoch 76/1000\n",
            "\u001b[1m3375/3375\u001b[0m \u001b[32m━━━━━━━━━━━━━━━━━━━━\u001b[0m\u001b[37m\u001b[0m \u001b[1m41s\u001b[0m 10ms/step - accuracy: 0.8434 - loss: 0.3339 - val_accuracy: 0.8233 - val_loss: 0.3959\n",
            "Epoch 77/1000\n",
            "\u001b[1m3375/3375\u001b[0m \u001b[32m━━━━━━━━━━━━━━━━━━━━\u001b[0m\u001b[37m\u001b[0m \u001b[1m41s\u001b[0m 10ms/step - accuracy: 0.8506 - loss: 0.3133 - val_accuracy: 0.8245 - val_loss: 0.3824\n",
            "Epoch 78/1000\n",
            "\u001b[1m3375/3375\u001b[0m \u001b[32m━━━━━━━━━━━━━━━━━━━━\u001b[0m\u001b[37m\u001b[0m \u001b[1m40s\u001b[0m 10ms/step - accuracy: 0.8478 - loss: 0.3162 - val_accuracy: 0.8255 - val_loss: 0.3948\n",
            "Epoch 79/1000\n",
            "\u001b[1m3375/3375\u001b[0m \u001b[32m━━━━━━━━━━━━━━━━━━━━\u001b[0m\u001b[37m\u001b[0m \u001b[1m42s\u001b[0m 10ms/step - accuracy: 0.8484 - loss: 0.3181 - val_accuracy: 0.8142 - val_loss: 0.4193\n",
            "Epoch 80/1000\n",
            "\u001b[1m3375/3375\u001b[0m \u001b[32m━━━━━━━━━━━━━━━━━━━━\u001b[0m\u001b[37m\u001b[0m \u001b[1m46s\u001b[0m 12ms/step - accuracy: 0.8464 - loss: 0.3238 - val_accuracy: 0.8187 - val_loss: 0.3973\n",
            "Epoch 81/1000\n",
            "\u001b[1m3375/3375\u001b[0m \u001b[32m━━━━━━━━━━━━━━━━━━━━\u001b[0m\u001b[37m\u001b[0m \u001b[1m36s\u001b[0m 10ms/step - accuracy: 0.8507 - loss: 0.3158 - val_accuracy: 0.8128 - val_loss: 0.4198\n",
            "Epoch 82/1000\n",
            "\u001b[1m3375/3375\u001b[0m \u001b[32m━━━━━━━━━━━━━━━━━━━━\u001b[0m\u001b[37m\u001b[0m \u001b[1m35s\u001b[0m 10ms/step - accuracy: 0.8481 - loss: 0.3171 - val_accuracy: 0.8197 - val_loss: 0.3969\n",
            "Epoch 83/1000\n",
            "\u001b[1m3375/3375\u001b[0m \u001b[32m━━━━━━━━━━━━━━━━━━━━\u001b[0m\u001b[37m\u001b[0m \u001b[1m41s\u001b[0m 10ms/step - accuracy: 0.8489 - loss: 0.3177 - val_accuracy: 0.8218 - val_loss: 0.4009\n",
            "Epoch 84/1000\n",
            "\u001b[1m3375/3375\u001b[0m \u001b[32m━━━━━━━━━━━━━━━━━━━━\u001b[0m\u001b[37m\u001b[0m \u001b[1m35s\u001b[0m 10ms/step - accuracy: 0.8517 - loss: 0.3116 - val_accuracy: 0.8167 - val_loss: 0.4002\n",
            "Epoch 85/1000\n",
            "\u001b[1m3375/3375\u001b[0m \u001b[32m━━━━━━━━━━━━━━━━━━━━\u001b[0m\u001b[37m\u001b[0m \u001b[1m35s\u001b[0m 10ms/step - accuracy: 0.8514 - loss: 0.3134 - val_accuracy: 0.8193 - val_loss: 0.3944\n",
            "Epoch 86/1000\n",
            "\u001b[1m3375/3375\u001b[0m \u001b[32m━━━━━━━━━━━━━━━━━━━━\u001b[0m\u001b[37m\u001b[0m \u001b[1m35s\u001b[0m 10ms/step - accuracy: 0.8519 - loss: 0.3112 - val_accuracy: 0.8249 - val_loss: 0.3959\n",
            "Epoch 87/1000\n",
            "\u001b[1m3375/3375\u001b[0m \u001b[32m━━━━━━━━━━━━━━━━━━━━\u001b[0m\u001b[37m\u001b[0m \u001b[1m34s\u001b[0m 10ms/step - accuracy: 0.8570 - loss: 0.3033 - val_accuracy: 0.8268 - val_loss: 0.3991\n",
            "Epoch 88/1000\n",
            "\u001b[1m3375/3375\u001b[0m \u001b[32m━━━━━━━━━━━━━━━━━━━━\u001b[0m\u001b[37m\u001b[0m \u001b[1m39s\u001b[0m 12ms/step - accuracy: 0.8532 - loss: 0.3063 - val_accuracy: 0.8223 - val_loss: 0.3976\n",
            "Epoch 89/1000\n",
            "\u001b[1m3375/3375\u001b[0m \u001b[32m━━━━━━━━━━━━━━━━━━━━\u001b[0m\u001b[37m\u001b[0m \u001b[1m36s\u001b[0m 10ms/step - accuracy: 0.8524 - loss: 0.3106 - val_accuracy: 0.8276 - val_loss: 0.3894\n",
            "Epoch 90/1000\n",
            "\u001b[1m3375/3375\u001b[0m \u001b[32m━━━━━━━━━━━━━━━━━━━━\u001b[0m\u001b[37m\u001b[0m \u001b[1m41s\u001b[0m 10ms/step - accuracy: 0.8532 - loss: 0.3052 - val_accuracy: 0.8192 - val_loss: 0.3957\n",
            "Epoch 91/1000\n",
            "\u001b[1m3375/3375\u001b[0m \u001b[32m━━━━━━━━━━━━━━━━━━━━\u001b[0m\u001b[37m\u001b[0m \u001b[1m41s\u001b[0m 10ms/step - accuracy: 0.8530 - loss: 0.3051 - val_accuracy: 0.8308 - val_loss: 0.3873\n",
            "Epoch 92/1000\n",
            "\u001b[1m3375/3375\u001b[0m \u001b[32m━━━━━━━━━━━━━━━━━━━━\u001b[0m\u001b[37m\u001b[0m \u001b[1m40s\u001b[0m 10ms/step - accuracy: 0.8552 - loss: 0.3024 - val_accuracy: 0.8200 - val_loss: 0.4035\n",
            "Epoch 93/1000\n",
            "\u001b[1m3375/3375\u001b[0m \u001b[32m━━━━━━━━━━━━━━━━━━━━\u001b[0m\u001b[37m\u001b[0m \u001b[1m41s\u001b[0m 10ms/step - accuracy: 0.8569 - loss: 0.3010 - val_accuracy: 0.8243 - val_loss: 0.3989\n",
            "Epoch 94/1000\n",
            "\u001b[1m3375/3375\u001b[0m \u001b[32m━━━━━━━━━━━━━━━━━━━━\u001b[0m\u001b[37m\u001b[0m \u001b[1m46s\u001b[0m 12ms/step - accuracy: 0.8538 - loss: 0.3077 - val_accuracy: 0.8322 - val_loss: 0.3787\n",
            "Epoch 95/1000\n",
            "\u001b[1m3375/3375\u001b[0m \u001b[32m━━━━━━━━━━━━━━━━━━━━\u001b[0m\u001b[37m\u001b[0m \u001b[1m36s\u001b[0m 10ms/step - accuracy: 0.8574 - loss: 0.2997 - val_accuracy: 0.8285 - val_loss: 0.3753\n",
            "Epoch 96/1000\n",
            "\u001b[1m3375/3375\u001b[0m \u001b[32m━━━━━━━━━━━━━━━━━━━━\u001b[0m\u001b[37m\u001b[0m \u001b[1m34s\u001b[0m 10ms/step - accuracy: 0.8578 - loss: 0.2961 - val_accuracy: 0.8281 - val_loss: 0.3772\n",
            "Epoch 97/1000\n",
            "\u001b[1m3375/3375\u001b[0m \u001b[32m━━━━━━━━━━━━━━━━━━━━\u001b[0m\u001b[37m\u001b[0m \u001b[1m41s\u001b[0m 10ms/step - accuracy: 0.8562 - loss: 0.2997 - val_accuracy: 0.8255 - val_loss: 0.3959\n",
            "Epoch 98/1000\n",
            "\u001b[1m3375/3375\u001b[0m \u001b[32m━━━━━━━━━━━━━━━━━━━━\u001b[0m\u001b[37m\u001b[0m \u001b[1m41s\u001b[0m 10ms/step - accuracy: 0.8555 - loss: 0.3031 - val_accuracy: 0.8220 - val_loss: 0.4021\n",
            "Epoch 99/1000\n",
            "\u001b[1m3375/3375\u001b[0m \u001b[32m━━━━━━━━━━━━━━━━━━━━\u001b[0m\u001b[37m\u001b[0m \u001b[1m41s\u001b[0m 10ms/step - accuracy: 0.8537 - loss: 0.3029 - val_accuracy: 0.8230 - val_loss: 0.4031\n",
            "Epoch 100/1000\n",
            "\u001b[1m3375/3375\u001b[0m \u001b[32m━━━━━━━━━━━━━━━━━━━━\u001b[0m\u001b[37m\u001b[0m \u001b[1m41s\u001b[0m 10ms/step - accuracy: 0.8568 - loss: 0.3029 - val_accuracy: 0.8326 - val_loss: 0.3802\n",
            "Epoch 101/1000\n",
            "\u001b[1m3375/3375\u001b[0m \u001b[32m━━━━━━━━━━━━━━━━━━━━\u001b[0m\u001b[37m\u001b[0m \u001b[1m41s\u001b[0m 10ms/step - accuracy: 0.8614 - loss: 0.2929 - val_accuracy: 0.8237 - val_loss: 0.3921\n",
            "Epoch 102/1000\n",
            "\u001b[1m3375/3375\u001b[0m \u001b[32m━━━━━━━━━━━━━━━━━━━━\u001b[0m\u001b[37m\u001b[0m \u001b[1m40s\u001b[0m 10ms/step - accuracy: 0.8620 - loss: 0.2929 - val_accuracy: 0.8300 - val_loss: 0.3857\n",
            "Epoch 103/1000\n",
            "\u001b[1m3375/3375\u001b[0m \u001b[32m━━━━━━━━━━━━━━━━━━━━\u001b[0m\u001b[37m\u001b[0m \u001b[1m41s\u001b[0m 10ms/step - accuracy: 0.8582 - loss: 0.3001 - val_accuracy: 0.8304 - val_loss: 0.3858\n",
            "Epoch 104/1000\n",
            "\u001b[1m3375/3375\u001b[0m \u001b[32m━━━━━━━━━━━━━━━━━━━━\u001b[0m\u001b[37m\u001b[0m \u001b[1m47s\u001b[0m 12ms/step - accuracy: 0.8634 - loss: 0.2892 - val_accuracy: 0.8294 - val_loss: 0.3889\n",
            "Epoch 105/1000\n",
            "\u001b[1m3375/3375\u001b[0m \u001b[32m━━━━━━━━━━━━━━━━━━━━\u001b[0m\u001b[37m\u001b[0m \u001b[1m41s\u001b[0m 12ms/step - accuracy: 0.8607 - loss: 0.2937 - val_accuracy: 0.8334 - val_loss: 0.3811\n",
            "Epoch 106/1000\n",
            "\u001b[1m3375/3375\u001b[0m \u001b[32m━━━━━━━━━━━━━━━━━━━━\u001b[0m\u001b[37m\u001b[0m \u001b[1m36s\u001b[0m 10ms/step - accuracy: 0.8567 - loss: 0.2975 - val_accuracy: 0.8327 - val_loss: 0.3778\n",
            "Epoch 107/1000\n",
            "\u001b[1m3375/3375\u001b[0m \u001b[32m━━━━━━━━━━━━━━━━━━━━\u001b[0m\u001b[37m\u001b[0m \u001b[1m34s\u001b[0m 10ms/step - accuracy: 0.8626 - loss: 0.2903 - val_accuracy: 0.8356 - val_loss: 0.3758\n",
            "Epoch 108/1000\n",
            "\u001b[1m3375/3375\u001b[0m \u001b[32m━━━━━━━━━━━━━━━━━━━━\u001b[0m\u001b[37m\u001b[0m \u001b[1m42s\u001b[0m 10ms/step - accuracy: 0.8608 - loss: 0.2924 - val_accuracy: 0.8384 - val_loss: 0.3676\n",
            "Epoch 109/1000\n",
            "\u001b[1m3375/3375\u001b[0m \u001b[32m━━━━━━━━━━━━━━━━━━━━\u001b[0m\u001b[37m\u001b[0m \u001b[1m46s\u001b[0m 12ms/step - accuracy: 0.8658 - loss: 0.2804 - val_accuracy: 0.8367 - val_loss: 0.3643\n",
            "Epoch 110/1000\n",
            "\u001b[1m3375/3375\u001b[0m \u001b[32m━━━━━━━━━━━━━━━━━━━━\u001b[0m\u001b[37m\u001b[0m \u001b[1m39s\u001b[0m 12ms/step - accuracy: 0.8618 - loss: 0.2880 - val_accuracy: 0.8330 - val_loss: 0.3791\n",
            "Epoch 111/1000\n",
            "\u001b[1m3375/3375\u001b[0m \u001b[32m━━━━━━━━━━━━━━━━━━━━\u001b[0m\u001b[37m\u001b[0m \u001b[1m36s\u001b[0m 10ms/step - accuracy: 0.8622 - loss: 0.2879 - val_accuracy: 0.8349 - val_loss: 0.3673\n",
            "Epoch 112/1000\n",
            "\u001b[1m3375/3375\u001b[0m \u001b[32m━━━━━━━━━━━━━━━━━━━━\u001b[0m\u001b[37m\u001b[0m \u001b[1m41s\u001b[0m 10ms/step - accuracy: 0.8641 - loss: 0.2839 - val_accuracy: 0.8364 - val_loss: 0.3765\n",
            "Epoch 113/1000\n",
            "\u001b[1m3375/3375\u001b[0m \u001b[32m━━━━━━━━━━━━━━━━━━━━\u001b[0m\u001b[37m\u001b[0m \u001b[1m40s\u001b[0m 10ms/step - accuracy: 0.8668 - loss: 0.2808 - val_accuracy: 0.8312 - val_loss: 0.3776\n",
            "Epoch 114/1000\n",
            "\u001b[1m3375/3375\u001b[0m \u001b[32m━━━━━━━━━━━━━━━━━━━━\u001b[0m\u001b[37m\u001b[0m \u001b[1m35s\u001b[0m 10ms/step - accuracy: 0.8646 - loss: 0.2871 - val_accuracy: 0.8373 - val_loss: 0.3758\n",
            "Epoch 115/1000\n",
            "\u001b[1m3375/3375\u001b[0m \u001b[32m━━━━━━━━━━━━━━━━━━━━\u001b[0m\u001b[37m\u001b[0m \u001b[1m41s\u001b[0m 11ms/step - accuracy: 0.8658 - loss: 0.2855 - val_accuracy: 0.8336 - val_loss: 0.3810\n",
            "Epoch 116/1000\n",
            "\u001b[1m3375/3375\u001b[0m \u001b[32m━━━━━━━━━━━━━━━━━━━━\u001b[0m\u001b[37m\u001b[0m \u001b[1m40s\u001b[0m 10ms/step - accuracy: 0.8645 - loss: 0.2888 - val_accuracy: 0.8355 - val_loss: 0.3742\n",
            "Epoch 117/1000\n",
            "\u001b[1m3375/3375\u001b[0m \u001b[32m━━━━━━━━━━━━━━━━━━━━\u001b[0m\u001b[37m\u001b[0m \u001b[1m40s\u001b[0m 12ms/step - accuracy: 0.8633 - loss: 0.2909 - val_accuracy: 0.8349 - val_loss: 0.3715\n",
            "Epoch 118/1000\n",
            "\u001b[1m3375/3375\u001b[0m \u001b[32m━━━━━━━━━━━━━━━━━━━━\u001b[0m\u001b[37m\u001b[0m \u001b[1m36s\u001b[0m 10ms/step - accuracy: 0.8633 - loss: 0.2870 - val_accuracy: 0.8371 - val_loss: 0.3629\n",
            "Epoch 119/1000\n",
            "\u001b[1m3375/3375\u001b[0m \u001b[32m━━━━━━━━━━━━━━━━━━━━\u001b[0m\u001b[37m\u001b[0m \u001b[1m34s\u001b[0m 10ms/step - accuracy: 0.8640 - loss: 0.2865 - val_accuracy: 0.8344 - val_loss: 0.3717\n",
            "Epoch 120/1000\n",
            "\u001b[1m3375/3375\u001b[0m \u001b[32m━━━━━━━━━━━━━━━━━━━━\u001b[0m\u001b[37m\u001b[0m \u001b[1m35s\u001b[0m 10ms/step - accuracy: 0.8639 - loss: 0.2846 - val_accuracy: 0.8317 - val_loss: 0.3822\n",
            "Epoch 121/1000\n",
            "\u001b[1m3375/3375\u001b[0m \u001b[32m━━━━━━━━━━━━━━━━━━━━\u001b[0m\u001b[37m\u001b[0m \u001b[1m34s\u001b[0m 10ms/step - accuracy: 0.8604 - loss: 0.2923 - val_accuracy: 0.8311 - val_loss: 0.3937\n",
            "Epoch 122/1000\n",
            "\u001b[1m3375/3375\u001b[0m \u001b[32m━━━━━━━━━━━━━━━━━━━━\u001b[0m\u001b[37m\u001b[0m \u001b[1m41s\u001b[0m 10ms/step - accuracy: 0.8670 - loss: 0.2809 - val_accuracy: 0.8335 - val_loss: 0.3868\n",
            "Epoch 123/1000\n",
            "\u001b[1m3375/3375\u001b[0m \u001b[32m━━━━━━━━━━━━━━━━━━━━\u001b[0m\u001b[37m\u001b[0m \u001b[1m41s\u001b[0m 10ms/step - accuracy: 0.8639 - loss: 0.2815 - val_accuracy: 0.8321 - val_loss: 0.3791\n",
            "Epoch 124/1000\n",
            "\u001b[1m3375/3375\u001b[0m \u001b[32m━━━━━━━━━━━━━━━━━━━━\u001b[0m\u001b[37m\u001b[0m \u001b[1m41s\u001b[0m 10ms/step - accuracy: 0.8656 - loss: 0.2867 - val_accuracy: 0.8391 - val_loss: 0.3630\n",
            "Epoch 125/1000\n",
            "\u001b[1m3375/3375\u001b[0m \u001b[32m━━━━━━━━━━━━━━━━━━━━\u001b[0m\u001b[37m\u001b[0m \u001b[1m40s\u001b[0m 10ms/step - accuracy: 0.8677 - loss: 0.2785 - val_accuracy: 0.8410 - val_loss: 0.3635\n",
            "Epoch 126/1000\n",
            "\u001b[1m3375/3375\u001b[0m \u001b[32m━━━━━━━━━━━━━━━━━━━━\u001b[0m\u001b[37m\u001b[0m \u001b[1m41s\u001b[0m 10ms/step - accuracy: 0.8652 - loss: 0.2852 - val_accuracy: 0.8381 - val_loss: 0.3620\n",
            "Epoch 127/1000\n",
            "\u001b[1m3375/3375\u001b[0m \u001b[32m━━━━━━━━━━━━━━━━━━━━\u001b[0m\u001b[37m\u001b[0m \u001b[1m40s\u001b[0m 10ms/step - accuracy: 0.8679 - loss: 0.2768 - val_accuracy: 0.8369 - val_loss: 0.3737\n",
            "Epoch 128/1000\n",
            "\u001b[1m3375/3375\u001b[0m \u001b[32m━━━━━━━━━━━━━━━━━━━━\u001b[0m\u001b[37m\u001b[0m \u001b[1m42s\u001b[0m 10ms/step - accuracy: 0.8668 - loss: 0.2816 - val_accuracy: 0.8339 - val_loss: 0.3796\n",
            "Epoch 129/1000\n",
            "\u001b[1m3375/3375\u001b[0m \u001b[32m━━━━━━━━━━━━━━━━━━━━\u001b[0m\u001b[37m\u001b[0m \u001b[1m46s\u001b[0m 12ms/step - accuracy: 0.8680 - loss: 0.2773 - val_accuracy: 0.8411 - val_loss: 0.3609\n",
            "Epoch 130/1000\n",
            "\u001b[1m3375/3375\u001b[0m \u001b[32m━━━━━━━━━━━━━━━━━━━━\u001b[0m\u001b[37m\u001b[0m \u001b[1m41s\u001b[0m 12ms/step - accuracy: 0.8679 - loss: 0.2799 - val_accuracy: 0.8383 - val_loss: 0.3581\n",
            "Epoch 131/1000\n",
            "\u001b[1m3375/3375\u001b[0m \u001b[32m━━━━━━━━━━━━━━━━━━━━\u001b[0m\u001b[37m\u001b[0m \u001b[1m36s\u001b[0m 10ms/step - accuracy: 0.8721 - loss: 0.2707 - val_accuracy: 0.8408 - val_loss: 0.3607\n",
            "Epoch 132/1000\n",
            "\u001b[1m3375/3375\u001b[0m \u001b[32m━━━━━━━━━━━━━━━━━━━━\u001b[0m\u001b[37m\u001b[0m \u001b[1m42s\u001b[0m 11ms/step - accuracy: 0.8700 - loss: 0.2763 - val_accuracy: 0.8433 - val_loss: 0.3628\n",
            "Epoch 133/1000\n",
            "\u001b[1m3375/3375\u001b[0m \u001b[32m━━━━━━━━━━━━━━━━━━━━\u001b[0m\u001b[37m\u001b[0m \u001b[1m39s\u001b[0m 10ms/step - accuracy: 0.8672 - loss: 0.2766 - val_accuracy: 0.8407 - val_loss: 0.3606\n",
            "Epoch 134/1000\n",
            "\u001b[1m3375/3375\u001b[0m \u001b[32m━━━━━━━━━━━━━━━━━━━━\u001b[0m\u001b[37m\u001b[0m \u001b[1m41s\u001b[0m 10ms/step - accuracy: 0.8731 - loss: 0.2682 - val_accuracy: 0.8412 - val_loss: 0.3577\n",
            "Epoch 135/1000\n",
            "\u001b[1m3375/3375\u001b[0m \u001b[32m━━━━━━━━━━━━━━━━━━━━\u001b[0m\u001b[37m\u001b[0m \u001b[1m41s\u001b[0m 10ms/step - accuracy: 0.8692 - loss: 0.2738 - val_accuracy: 0.8390 - val_loss: 0.3648\n",
            "Epoch 136/1000\n",
            "\u001b[1m3375/3375\u001b[0m \u001b[32m━━━━━━━━━━━━━━━━━━━━\u001b[0m\u001b[37m\u001b[0m \u001b[1m34s\u001b[0m 10ms/step - accuracy: 0.8713 - loss: 0.2757 - val_accuracy: 0.8382 - val_loss: 0.3741\n",
            "Epoch 137/1000\n",
            "\u001b[1m3375/3375\u001b[0m \u001b[32m━━━━━━━━━━━━━━━━━━━━\u001b[0m\u001b[37m\u001b[0m \u001b[1m41s\u001b[0m 10ms/step - accuracy: 0.8685 - loss: 0.2761 - val_accuracy: 0.8432 - val_loss: 0.3599\n",
            "Epoch 138/1000\n",
            "\u001b[1m3375/3375\u001b[0m \u001b[32m━━━━━━━━━━━━━━━━━━━━\u001b[0m\u001b[37m\u001b[0m \u001b[1m42s\u001b[0m 10ms/step - accuracy: 0.8688 - loss: 0.2785 - val_accuracy: 0.8441 - val_loss: 0.3585\n",
            "Epoch 139/1000\n",
            "\u001b[1m3375/3375\u001b[0m \u001b[32m━━━━━━━━━━━━━━━━━━━━\u001b[0m\u001b[37m\u001b[0m \u001b[1m34s\u001b[0m 10ms/step - accuracy: 0.8689 - loss: 0.2747 - val_accuracy: 0.8397 - val_loss: 0.3690\n",
            "Epoch 140/1000\n",
            "\u001b[1m3375/3375\u001b[0m \u001b[32m━━━━━━━━━━━━━━━━━━━━\u001b[0m\u001b[37m\u001b[0m \u001b[1m42s\u001b[0m 10ms/step - accuracy: 0.8730 - loss: 0.2681 - val_accuracy: 0.8447 - val_loss: 0.3578\n",
            "Epoch 141/1000\n",
            "\u001b[1m3375/3375\u001b[0m \u001b[32m━━━━━━━━━━━━━━━━━━━━\u001b[0m\u001b[37m\u001b[0m \u001b[1m41s\u001b[0m 10ms/step - accuracy: 0.8762 - loss: 0.2619 - val_accuracy: 0.8467 - val_loss: 0.3494\n",
            "Epoch 142/1000\n",
            "\u001b[1m3375/3375\u001b[0m \u001b[32m━━━━━━━━━━━━━━━━━━━━\u001b[0m\u001b[37m\u001b[0m \u001b[1m34s\u001b[0m 10ms/step - accuracy: 0.8717 - loss: 0.2698 - val_accuracy: 0.8468 - val_loss: 0.3513\n",
            "Epoch 143/1000\n",
            "\u001b[1m3375/3375\u001b[0m \u001b[32m━━━━━━━━━━━━━━━━━━━━\u001b[0m\u001b[37m\u001b[0m \u001b[1m35s\u001b[0m 10ms/step - accuracy: 0.8727 - loss: 0.2661 - val_accuracy: 0.8503 - val_loss: 0.3446\n",
            "Epoch 144/1000\n",
            "\u001b[1m3375/3375\u001b[0m \u001b[32m━━━━━━━━━━━━━━━━━━━━\u001b[0m\u001b[37m\u001b[0m \u001b[1m41s\u001b[0m 10ms/step - accuracy: 0.8687 - loss: 0.2770 - val_accuracy: 0.8432 - val_loss: 0.3593\n",
            "Epoch 145/1000\n",
            "\u001b[1m3375/3375\u001b[0m \u001b[32m━━━━━━━━━━━━━━━━━━━━\u001b[0m\u001b[37m\u001b[0m \u001b[1m41s\u001b[0m 10ms/step - accuracy: 0.8716 - loss: 0.2666 - val_accuracy: 0.8477 - val_loss: 0.3507\n",
            "Epoch 146/1000\n",
            "\u001b[1m3375/3375\u001b[0m \u001b[32m━━━━━━━━━━━━━━━━━━━━\u001b[0m\u001b[37m\u001b[0m \u001b[1m42s\u001b[0m 11ms/step - accuracy: 0.8752 - loss: 0.2661 - val_accuracy: 0.8442 - val_loss: 0.3572\n",
            "Epoch 147/1000\n",
            "\u001b[1m3375/3375\u001b[0m \u001b[32m━━━━━━━━━━━━━━━━━━━━\u001b[0m\u001b[37m\u001b[0m \u001b[1m40s\u001b[0m 10ms/step - accuracy: 0.8727 - loss: 0.2680 - val_accuracy: 0.8437 - val_loss: 0.3623\n",
            "Epoch 148/1000\n",
            "\u001b[1m3375/3375\u001b[0m \u001b[32m━━━━━━━━━━━━━━━━━━━━\u001b[0m\u001b[37m\u001b[0m \u001b[1m40s\u001b[0m 10ms/step - accuracy: 0.8716 - loss: 0.2710 - val_accuracy: 0.8491 - val_loss: 0.3478\n",
            "Epoch 149/1000\n",
            "\u001b[1m3375/3375\u001b[0m \u001b[32m━━━━━━━━━━━━━━━━━━━━\u001b[0m\u001b[37m\u001b[0m \u001b[1m35s\u001b[0m 10ms/step - accuracy: 0.8757 - loss: 0.2625 - val_accuracy: 0.8419 - val_loss: 0.3509\n",
            "Epoch 150/1000\n",
            "\u001b[1m3375/3375\u001b[0m \u001b[32m━━━━━━━━━━━━━━━━━━━━\u001b[0m\u001b[37m\u001b[0m \u001b[1m41s\u001b[0m 10ms/step - accuracy: 0.8748 - loss: 0.2612 - val_accuracy: 0.8451 - val_loss: 0.3555\n",
            "Epoch 151/1000\n",
            "\u001b[1m3375/3375\u001b[0m \u001b[32m━━━━━━━━━━━━━━━━━━━━\u001b[0m\u001b[37m\u001b[0m \u001b[1m41s\u001b[0m 10ms/step - accuracy: 0.8747 - loss: 0.2628 - val_accuracy: 0.8454 - val_loss: 0.3540\n",
            "Epoch 152/1000\n",
            "\u001b[1m3375/3375\u001b[0m \u001b[32m━━━━━━━━━━━━━━━━━━━━\u001b[0m\u001b[37m\u001b[0m \u001b[1m40s\u001b[0m 10ms/step - accuracy: 0.8708 - loss: 0.2700 - val_accuracy: 0.8416 - val_loss: 0.3666\n",
            "Epoch 153/1000\n",
            "\u001b[1m3375/3375\u001b[0m \u001b[32m━━━━━━━━━━━━━━━━━━━━\u001b[0m\u001b[37m\u001b[0m \u001b[1m35s\u001b[0m 10ms/step - accuracy: 0.8743 - loss: 0.2644 - val_accuracy: 0.8470 - val_loss: 0.3501\n",
            "Epoch 154/1000\n",
            "\u001b[1m3375/3375\u001b[0m \u001b[32m━━━━━━━━━━━━━━━━━━━━\u001b[0m\u001b[37m\u001b[0m \u001b[1m41s\u001b[0m 11ms/step - accuracy: 0.8720 - loss: 0.2689 - val_accuracy: 0.8432 - val_loss: 0.3581\n",
            "Epoch 155/1000\n",
            "\u001b[1m3375/3375\u001b[0m \u001b[32m━━━━━━━━━━━━━━━━━━━━\u001b[0m\u001b[37m\u001b[0m \u001b[1m40s\u001b[0m 10ms/step - accuracy: 0.8763 - loss: 0.2636 - val_accuracy: 0.8473 - val_loss: 0.3506\n",
            "Epoch 156/1000\n",
            "\u001b[1m3056/3375\u001b[0m \u001b[32m━━━━━━━━━━━━━━━━━━\u001b[0m\u001b[37m━━\u001b[0m \u001b[1m2s\u001b[0m 9ms/step - accuracy: 0.8768 - loss: 0.2640"
          ]
        }
      ],
      "source": [
        "model_checkpoint_callback = EarlyStopping(monitor='val_accuracy', mode='max', patience = 100, verbose = 1)\n",
        "history = rnn_model.fit(X_train, y_train, batch_size=32,epochs=1000, callbacks=[model_checkpoint_callback], validation_data=(X_val, y_val))\n",
        "res = rnn_model.predict(X_test)\n",
        "print(model_checkpoint_callback.best)\n",
        "y_pred = np.argmax(res, axis = 1)\n",
        "print()\n",
        "print()\n",
        "p = confusion_matrix(np.argmax(y_test, axis=1), y_pred, labels=[0,1,2])\n",
        "\n",
        "# list all data in history\n",
        "print(history.history.keys())"
      ]
    },
    {
      "cell_type": "code",
      "source": [],
      "metadata": {
        "id": "53MRYqx1FyBt"
      },
      "execution_count": null,
      "outputs": []
    }
  ],
  "metadata": {
    "colab": {
      "provenance": [],
      "gpuType": "T4"
    },
    "kernelspec": {
      "display_name": "Python 3",
      "name": "python3"
    },
    "language_info": {
      "codemirror_mode": {
        "name": "ipython",
        "version": 3
      },
      "file_extension": ".py",
      "mimetype": "text/x-python",
      "name": "python",
      "nbconvert_exporter": "python",
      "pygments_lexer": "ipython3",
      "version": "3.7.16"
    },
    "accelerator": "GPU"
  },
  "nbformat": 4,
  "nbformat_minor": 0
}