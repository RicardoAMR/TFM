{
 "cells": [
  {
   "cell_type": "code",
   "execution_count": null,
   "metadata": {},
   "outputs": [],
   "source": [
    "import scipy.io\n",
    "import re\n",
    "import numpy as np\n",
    "from collections import Counter\n",
    "import os"
   ]
  },
  {
   "cell_type": "code",
   "execution_count": 21,
   "metadata": {},
   "outputs": [
    {
     "data": {
      "text/plain": [
       "{'__header__': b'MATLAB 5.0 MAT-file, Platform: PCWIN64, Created on: Tue Oct 22 13:59:07 2024',\n",
       " '__version__': '1.0',\n",
       " '__globals__': [],\n",
       " 'matriz_resultante': array([[ -624.4,  -628.9,  -634.1, ...,  -535.2,  -533.2,  -531.5],\n",
       "        [ -679.2,  -681.3,  -682.8, ...,  -644.7,  -642.6,  -641.2],\n",
       "        [ -688.5,  -689.5,  -689.7, ...,  -623.5,  -621.2,  -619.3],\n",
       "        ...,\n",
       "        [ -678.2,  -680.5,  -681.9, ...,  -638.4,  -636.4,  -634.8],\n",
       "        [ -659.9,  -660.7,  -660.9, ...,  -620.3,  -617.4,  -616.2],\n",
       "        [ -602.7,  -622.8,  -672.3, ..., -1078.7,  -836.1,  -536.3]])}"
      ]
     },
     "execution_count": 21,
     "metadata": {},
     "output_type": "execute_result"
    }
   ],
   "source": [
    "mat = scipy.io.loadmat('MR001A.mat')\n",
    "\n",
    "mat"
   ]
  },
  {
   "cell_type": "code",
   "execution_count": 22,
   "metadata": {},
   "outputs": [
    {
     "name": "stdout",
     "output_type": "stream",
     "text": [
      "(96000, 32)\n"
     ]
    },
    {
     "data": {
      "text/plain": [
       "array([[ -624.4,  -679.2,  -688.5, ...,  -678.2,  -659.9,  -602.7],\n",
       "       [ -628.9,  -681.3,  -689.5, ...,  -680.5,  -660.7,  -622.8],\n",
       "       [ -634.1,  -682.8,  -689.7, ...,  -681.9,  -660.9,  -672.3],\n",
       "       ...,\n",
       "       [ -535.2,  -644.7,  -623.5, ...,  -638.4,  -620.3, -1078.7],\n",
       "       [ -533.2,  -642.6,  -621.2, ...,  -636.4,  -617.4,  -836.1],\n",
       "       [ -531.5,  -641.2,  -619.3, ...,  -634.8,  -616.2,  -536.3]])"
      ]
     },
     "execution_count": 22,
     "metadata": {},
     "output_type": "execute_result"
    }
   ],
   "source": [
    "dato = mat['matriz_resultante'].T\n",
    "print(dato.shape)\n",
    "dato"
   ]
  },
  {
   "cell_type": "code",
   "execution_count": 23,
   "metadata": {},
   "outputs": [],
   "source": [
    "dir = './registros/Tabla/Correctos'\n",
    "\n",
    "directory = os.fsencode(dir)\n",
    "\n",
    "X_data = np.array([])\n",
    "c = 0\n",
    "for file in os.listdir(directory):\n",
    "    filename = os.fsdecode(file)\n",
    "    if filename.endswith(\".mat\"):\n",
    "        mat_aux = scipy.io.loadmat(dir + '/' + filename)['matriz_resultante'].T\n",
    "        #if mat_aux.shape[0] == 96000 and c == 0:\n",
    "        if mat_aux.shape[0] == 96000:\n",
    "            if c == 0:\n",
    "                X_data = mat_aux\n",
    "            else:\n",
    "                X_data = np.concatenate((X_data, mat_aux), axis=0)\n",
    "            c += 1"
   ]
  },
  {
   "cell_type": "code",
   "execution_count": 24,
   "metadata": {},
   "outputs": [
    {
     "name": "stdout",
     "output_type": "stream",
     "text": [
      "(1440000, 32)\n"
     ]
    },
    {
     "data": {
      "text/plain": [
       "array([[ -41.5,  -59.4,  -11. , ...,  -21.6,   -4.7, 1338.7],\n",
       "       [ -40.7,  -59.2,  -11.8, ...,  -21.3,   -4.7, 1295.3],\n",
       "       [ -39. ,  -58.6,  -11.6, ...,  -20.8,   -4.3, 1271.1],\n",
       "       ...,\n",
       "       [ -41.5,  -27. ,  -23. , ...,  -17.8,   -5.1,  -86.9],\n",
       "       [ -41.4,  -27.2,  -22.8, ...,  -18.2,   -5.3,  -81.1],\n",
       "       [ -41.1,  -27.5,  -22.7, ...,  -18.7,   -5.5,  -80.5]])"
      ]
     },
     "execution_count": 24,
     "metadata": {},
     "output_type": "execute_result"
    }
   ],
   "source": [
    "print(X_data.shape)\n",
    "X_data"
   ]
  },
  {
   "cell_type": "code",
   "execution_count": 25,
   "metadata": {},
   "outputs": [],
   "source": [
    "def generar_test(estr):\n",
    "    with open('EventosAudio.txt', 'r') as f:\n",
    "        y_data=[]\n",
    "        n = 0\n",
    "        for linea in f:\n",
    "            if n != 0:\n",
    "                # 0 para audio/no audio, 1 para anger/joy/neutral, 2 para anger/joy/neutral/no sonido\n",
    "                cleaned_string = re.sub(r'[^a-zA-Z]', '', linea)\n",
    "                if estr == 0:\n",
    "                    for _ in range(500):\n",
    "                        y_data.append('audio')\n",
    "                    for _ in range(500):\n",
    "                        y_data.append('no_audio')\n",
    "                elif estr == 1:\n",
    "                    for _ in range(1000):\n",
    "                        y_data.append(cleaned_string)\n",
    "                else:\n",
    "                    for _ in range(500):\n",
    "                        y_data.append(cleaned_string)\n",
    "                    for _ in range(500):\n",
    "                        y_data.append('no_audio')\n",
    "            else:\n",
    "                n += 1     \n",
    "    return y_data*c"
   ]
  },
  {
   "cell_type": "code",
   "execution_count": 26,
   "metadata": {},
   "outputs": [
    {
     "name": "stdout",
     "output_type": "stream",
     "text": [
      "1440000\n",
      "{'anger': 480000, 'joy': 480000, 'neutral': 480000}\n"
     ]
    }
   ],
   "source": [
    "y_data = generar_test(1)\n",
    "\n",
    "print(len(y_data))\n",
    "\n",
    "conteo = {}\n",
    "for elemento in y_data:\n",
    "    conteo[elemento] = conteo.get(elemento, 0) + 1\n",
    "print(conteo)"
   ]
  },
  {
   "cell_type": "code",
   "execution_count": 39,
   "metadata": {},
   "outputs": [],
   "source": [
    "def apply_sliding_window(X, y, window_size, step_size):\n",
    "    y_res = []\n",
    "    X_res = []\n",
    "    posicion = 0\n",
    "    stride = window_size - step_size\n",
    "    total = len(y)\n",
    "    \n",
    "    while (posicion + window_size < total):\n",
    "        y_aux = []\n",
    "        X_aux = []\n",
    "        \n",
    "        for _ in range(window_size):\n",
    "            y_aux.append(y[posicion])\n",
    "            X_aux.append(X[posicion])\n",
    "            posicion += 1\n",
    "        \n",
    "        valor_mas_comun = Counter(y_aux).most_common(1)\n",
    "        y_res.append(valor_mas_comun[0][0])\n",
    "\n",
    "        X_res.append(np.asarray(X_aux))\n",
    "\n",
    "        posicion -= stride    \n",
    "    \n",
    "    return np.asarray(X_res), np.asarray(y_res)"
   ]
  },
  {
   "cell_type": "code",
   "execution_count": 41,
   "metadata": {},
   "outputs": [
    {
     "name": "stdout",
     "output_type": "stream",
     "text": [
      "Shape original: (1440000, 32)\n",
      "Shape después de aplicar ventana: (179992, 64, 32)\n",
      "Shape original: (1440000,)\n",
      "Shape después de aplicar ventana: (179992,)\n"
     ]
    }
   ],
   "source": [
    "windowed_data, windowed_y = apply_sliding_window(X_data, y_data, window_size=64, step_size=8)\n",
    "\n",
    "print(\"Shape original:\", X_data.shape)\n",
    "print(\"Shape después de aplicar ventana:\", windowed_data.shape)\n",
    "\n",
    "print(\"Shape original:\", np.array(y_data, dtype=str).shape)\n",
    "print(\"Shape después de aplicar ventana:\", windowed_y.shape)"
   ]
  },
  {
   "cell_type": "code",
   "execution_count": 45,
   "metadata": {},
   "outputs": [],
   "source": [
    "with open('dataset_X_sliding_window.npy', 'wb') as f:\n",
    "    np.save(f, windowed_data)"
   ]
  },
  {
   "cell_type": "code",
   "execution_count": 46,
   "metadata": {},
   "outputs": [],
   "source": [
    "with open('dataset_y_sliding_window.npy', 'wb') as f:\n",
    "    np.save(f, windowed_y)"
   ]
  },
  {
   "cell_type": "code",
   "execution_count": null,
   "metadata": {},
   "outputs": [],
   "source": []
  }
 ],
 "metadata": {
  "kernelspec": {
   "display_name": "tfdml_plugin",
   "language": "python",
   "name": "python3"
  },
  "language_info": {
   "codemirror_mode": {
    "name": "ipython",
    "version": 3
   },
   "file_extension": ".py",
   "mimetype": "text/x-python",
   "name": "python",
   "nbconvert_exporter": "python",
   "pygments_lexer": "ipython3",
   "version": "3.10.16"
  }
 },
 "nbformat": 4,
 "nbformat_minor": 2
}
