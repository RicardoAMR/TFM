{
 "cells": [
  {
   "cell_type": "code",
   "execution_count": 10,
   "metadata": {},
   "outputs": [],
   "source": [
    "import scipy.io\n",
    "import re\n",
    "import numpy as np\n",
    "from collections import Counter\n",
    "import os"
   ]
  },
  {
   "cell_type": "code",
   "execution_count": 11,
   "metadata": {},
   "outputs": [
    {
     "data": {
      "text/plain": [
       "{'__header__': b'MATLAB 5.0 MAT-file, Platform: PCWIN64, Created on: Tue Oct 22 13:59:07 2024',\n",
       " '__version__': '1.0',\n",
       " '__globals__': [],\n",
       " 'matriz_resultante': array([[ -624.4,  -628.9,  -634.1, ...,  -535.2,  -533.2,  -531.5],\n",
       "        [ -679.2,  -681.3,  -682.8, ...,  -644.7,  -642.6,  -641.2],\n",
       "        [ -688.5,  -689.5,  -689.7, ...,  -623.5,  -621.2,  -619.3],\n",
       "        ...,\n",
       "        [ -678.2,  -680.5,  -681.9, ...,  -638.4,  -636.4,  -634.8],\n",
       "        [ -659.9,  -660.7,  -660.9, ...,  -620.3,  -617.4,  -616.2],\n",
       "        [ -602.7,  -622.8,  -672.3, ..., -1078.7,  -836.1,  -536.3]])}"
      ]
     },
     "execution_count": 11,
     "metadata": {},
     "output_type": "execute_result"
    }
   ],
   "source": [
    "mat = scipy.io.loadmat('MR001A.mat')\n",
    "\n",
    "mat"
   ]
  },
  {
   "cell_type": "code",
   "execution_count": 12,
   "metadata": {},
   "outputs": [
    {
     "name": "stdout",
     "output_type": "stream",
     "text": [
      "(96000, 32)\n"
     ]
    },
    {
     "data": {
      "text/plain": [
       "array([[ -624.4,  -679.2,  -688.5, ...,  -678.2,  -659.9,  -602.7],\n",
       "       [ -628.9,  -681.3,  -689.5, ...,  -680.5,  -660.7,  -622.8],\n",
       "       [ -634.1,  -682.8,  -689.7, ...,  -681.9,  -660.9,  -672.3],\n",
       "       ...,\n",
       "       [ -535.2,  -644.7,  -623.5, ...,  -638.4,  -620.3, -1078.7],\n",
       "       [ -533.2,  -642.6,  -621.2, ...,  -636.4,  -617.4,  -836.1],\n",
       "       [ -531.5,  -641.2,  -619.3, ...,  -634.8,  -616.2,  -536.3]])"
      ]
     },
     "execution_count": 12,
     "metadata": {},
     "output_type": "execute_result"
    }
   ],
   "source": [
    "dato = mat['matriz_resultante'].T\n",
    "print(dato.shape)\n",
    "dato"
   ]
  },
  {
   "cell_type": "code",
   "execution_count": 14,
   "metadata": {},
   "outputs": [],
   "source": [
    "train = ['MR003A.mat', 'MR009A.mat', 'MR010A.mat', 'MR012A.mat', 'MR014A.mat', 'MR015A.mat', 'MR017A.mat', 'MR023A.mat', 'MR024A.mat']\n",
    "valid = ['MR011A.mat', 'MR004A.mat', 'MR013A.mat']\n",
    "test = ['MR008A.mat', 'MR018A.mat', 'MR006A.mat']"
   ]
  },
  {
   "cell_type": "code",
   "execution_count": null,
   "metadata": {},
   "outputs": [],
   "source": [
    "dir = './registros/Tabla/Correctos'\n",
    "\n",
    "directory = os.fsencode(dir)\n",
    "\n",
    "X_train = np.array([])\n",
    "X_valid = np.array([])\n",
    "X_test = np.array([])\n",
    "c1 = 0\n",
    "c2 = 0\n",
    "c3 = 0\n",
    "for file in os.listdir(directory):\n",
    "    filename = os.fsdecode(file)\n",
    "    if filename.endswith(\".mat\"):\n",
    "        mat_aux = scipy.io.loadmat(dir + '/' + filename)['matriz_resultante'].T\n",
    "\n",
    "        #bloque = 500\n",
    "        #mascara = np.arange(len(mat_aux)) % (2 * bloque) < bloque\n",
    "        #mat_aux = mat_aux[mascara]\n",
    "\n",
    "        if filename in train:\n",
    "            if c1 == 0:\n",
    "                X_train = mat_aux\n",
    "            else:\n",
    "                X_train = np.concatenate((X_train, mat_aux), axis=0)\n",
    "            c1 += 1\n",
    "        elif filename in valid:\n",
    "            if c2 == 0:\n",
    "                X_valid = mat_aux\n",
    "            else:\n",
    "                X_valid = np.concatenate((X_valid, mat_aux), axis=0)\n",
    "            c2 += 1\n",
    "        elif filename in test:\n",
    "            if c3 == 0:\n",
    "                X_test = mat_aux\n",
    "            else:\n",
    "                X_test = np.concatenate((X_test, mat_aux), axis=0)\n",
    "            c3 += 1"
   ]
  },
  {
   "cell_type": "code",
   "execution_count": 16,
   "metadata": {},
   "outputs": [
    {
     "name": "stdout",
     "output_type": "stream",
     "text": [
      "(432000, 32)\n",
      "(144000, 32)\n",
      "(144000, 32)\n"
     ]
    }
   ],
   "source": [
    "print(X_train.shape)\n",
    "print(X_valid.shape)\n",
    "print(X_test.shape)"
   ]
  },
  {
   "cell_type": "code",
   "execution_count": null,
   "metadata": {},
   "outputs": [],
   "source": [
    "def generar_test(estr):\n",
    "    with open('EventosAudio.txt', 'r') as f:\n",
    "        y_data=[]\n",
    "        n = 0\n",
    "        for linea in f:\n",
    "            if n != 0:\n",
    "                # 0 para audio/no audio, 1 para anger/joy/neutral, 2 para anger/joy/neutral/no sonido\n",
    "                cleaned_string = re.sub(r'[^a-zA-Z]', '', linea)\n",
    "                if estr == 0:\n",
    "                    for _ in range(500):\n",
    "                        y_data.append('audio')\n",
    "                    for _ in range(500):\n",
    "                        y_data.append('no_audio')\n",
    "                elif estr == 1:\n",
    "                    for _ in range(1000):\n",
    "                        y_data.append(cleaned_string)\n",
    "                #elif estr == 2:\n",
    "                #    for _ in range(500):\n",
    "                #        y_data.append(cleaned_string)\n",
    "                else:\n",
    "                    for _ in range(500):\n",
    "                        y_data.append(cleaned_string)\n",
    "                    for _ in range(500):\n",
    "                        y_data.append('no_audio')\n",
    "            n += 1     \n",
    "    return y_data*int(X_train.shape[0]/96000), y_data*int(X_valid.shape[0]/96000), y_data*int(X_test.shape[0]/96000)"
   ]
  },
  {
   "cell_type": "code",
   "execution_count": null,
   "metadata": {},
   "outputs": [
    {
     "name": "stdout",
     "output_type": "stream",
     "text": [
      "432000\n",
      "144000\n",
      "144000\n",
      "{'anger': 144000, 'joy': 144000, 'neutral': 144000}\n"
     ]
    }
   ],
   "source": [
    "y_train, y_valid, y_test = generar_test(1)\n",
    "\n",
    "print(len(y_train))\n",
    "print(len(y_valid))\n",
    "print(len(y_test))\n",
    "\n",
    "conteo = {}\n",
    "for elemento in y_train:\n",
    "    conteo[elemento] = conteo.get(elemento, 0) + 1\n",
    "print(conteo)"
   ]
  },
  {
   "cell_type": "code",
   "execution_count": 19,
   "metadata": {},
   "outputs": [],
   "source": [
    "def apply_sliding_window(X, y, window_size, step_size):\n",
    "    y_res = []\n",
    "    X_res = []\n",
    "    posicion = 0\n",
    "    stride = window_size - step_size\n",
    "    total = len(y)\n",
    "    \n",
    "    while (posicion + window_size < total):\n",
    "        y_aux = []\n",
    "        X_aux = []\n",
    "        \n",
    "        for _ in range(window_size):\n",
    "            y_aux.append(y[posicion])\n",
    "            X_aux.append(X[posicion])\n",
    "            posicion += 1\n",
    "        \n",
    "        valor_mas_comun = Counter(y_aux).most_common(1)\n",
    "        y_res.append(valor_mas_comun[0][0])\n",
    "\n",
    "        X_res.append(np.asarray(X_aux))\n",
    "\n",
    "        posicion -= stride    \n",
    "    \n",
    "    return np.asarray(X_res), np.asarray(y_res)"
   ]
  },
  {
   "cell_type": "code",
   "execution_count": 20,
   "metadata": {},
   "outputs": [
    {
     "name": "stdout",
     "output_type": "stream",
     "text": [
      "(8638, 100, 32)\n",
      "(2878, 100, 32)\n",
      "(2878, 100, 32)\n"
     ]
    }
   ],
   "source": [
    "X_train, y_train = apply_sliding_window(X_train, y_train, window_size=100, step_size=50)\n",
    "X_valid, y_valid = apply_sliding_window(X_valid, y_valid, window_size=100, step_size=50)\n",
    "X_test, y_test = apply_sliding_window(X_test, y_test, window_size=100, step_size=50)\n",
    "\n",
    "print(X_train.shape)\n",
    "print(X_valid.shape)\n",
    "print(X_test.shape)"
   ]
  },
  {
   "cell_type": "code",
   "execution_count": 21,
   "metadata": {},
   "outputs": [
    {
     "name": "stdout",
     "output_type": "stream",
     "text": [
      "(8638,)\n",
      "(2878,)\n",
      "(2878,)\n"
     ]
    }
   ],
   "source": [
    "print(y_train.shape)\n",
    "print(y_valid.shape)\n",
    "print(y_test.shape)"
   ]
  },
  {
   "cell_type": "code",
   "execution_count": 22,
   "metadata": {},
   "outputs": [],
   "source": [
    "lista_final = [X_train, X_valid, X_test, y_train, y_valid, y_test]\n",
    "\n",
    "with open('dataset_X_y_sliding_window.npy', 'wb') as f:\n",
    "    np.save(f, np.array(lista_final, dtype=object))"
   ]
  },
  {
   "cell_type": "code",
   "execution_count": null,
   "metadata": {},
   "outputs": [],
   "source": []
  },
  {
   "cell_type": "code",
   "execution_count": null,
   "metadata": {},
   "outputs": [],
   "source": []
  },
  {
   "cell_type": "code",
   "execution_count": null,
   "metadata": {},
   "outputs": [],
   "source": []
  },
  {
   "cell_type": "code",
   "execution_count": null,
   "metadata": {},
   "outputs": [],
   "source": []
  },
  {
   "cell_type": "code",
   "execution_count": 7,
   "metadata": {},
   "outputs": [],
   "source": [
    "dir = './registros/Tabla/Correctos'\n",
    "\n",
    "directory = os.fsencode(dir)\n",
    "\n",
    "X_train = np.array([])\n",
    "X_valid = np.array([])\n",
    "X_test = np.array([])\n",
    "y_train = []\n",
    "y_valid = []\n",
    "y_test = []\n",
    "\n",
    "c=0\n",
    "for file in os.listdir(directory):\n",
    "    filename = os.fsdecode(file)\n",
    "    if filename.endswith(\".mat\"):\n",
    "        mat_aux = scipy.io.loadmat(dir + '/' + filename)['matriz_resultante'].T\n",
    "\n",
    "        if len(mat_aux) == 96000:\n",
    "            val3 = len(mat_aux)\n",
    "            val1 = int(val3*0.6)\n",
    "            val2 = int(val3*0.6 + val3*0.2)\n",
    "\n",
    "            if c == 0:\n",
    "                X_train = mat_aux[0:val1]\n",
    "                X_valid = mat_aux[val1:val2]\n",
    "                X_test = mat_aux[val2:val3]\n",
    "            else:\n",
    "                X_train = np.concatenate((X_train, mat_aux[0:val1]), axis=0)\n",
    "                X_valid = np.concatenate((X_valid, mat_aux[val1:val2]), axis=0)\n",
    "                X_test = np.concatenate((X_test, mat_aux[val2:val3]), axis=0)\n",
    "            c += 1\n",
    "\n",
    "def generar_test(estr):\n",
    "    with open('EventosAudio.txt', 'r') as f:\n",
    "        y_data=[]\n",
    "        n = 0\n",
    "        for linea in f:\n",
    "            if n != 0:\n",
    "                # 0 para audio/no audio, 1 para anger/joy/neutral, 2 para anger/joy/neutral/no sonido\n",
    "                cleaned_string = re.sub(r'[^a-zA-Z]', '', linea)\n",
    "                if estr == 0:\n",
    "                    for _ in range(500):\n",
    "                        y_data.append('audio')\n",
    "                    for _ in range(500):\n",
    "                        y_data.append('no_audio')\n",
    "                elif estr == 1:\n",
    "                    for _ in range(1000):\n",
    "                        y_data.append(cleaned_string)\n",
    "                else:\n",
    "                    for _ in range(500):\n",
    "                        y_data.append(cleaned_string)\n",
    "                    for _ in range(500):\n",
    "                        y_data.append('no_audio')\n",
    "            n += 1    \n",
    "\n",
    "    val3 = len(mat_aux)\n",
    "    val1 = int(val3*0.6)\n",
    "    val2 = int(val3*0.6 + val3*0.2)\n",
    "\n",
    "    return y_data[0:val1]*c, y_data[val1:val2]*c, y_data[val2:val3]*c"
   ]
  },
  {
   "cell_type": "code",
   "execution_count": 8,
   "metadata": {},
   "outputs": [
    {
     "name": "stdout",
     "output_type": "stream",
     "text": [
      "(864000, 32)\n",
      "(288000, 32)\n",
      "(288000, 32)\n"
     ]
    }
   ],
   "source": [
    "print(X_train.shape)\n",
    "print(X_valid.shape)\n",
    "print(X_test.shape)"
   ]
  },
  {
   "cell_type": "code",
   "execution_count": 9,
   "metadata": {},
   "outputs": [],
   "source": [
    "y_train, y_valid, y_test = generar_test(1)"
   ]
  },
  {
   "cell_type": "code",
   "execution_count": 10,
   "metadata": {},
   "outputs": [
    {
     "name": "stdout",
     "output_type": "stream",
     "text": [
      "846000\n",
      "282000\n",
      "282000\n"
     ]
    }
   ],
   "source": [
    "print(len(y_train))\n",
    "print(len(y_valid))\n",
    "print(len(y_test))"
   ]
  },
  {
   "cell_type": "code",
   "execution_count": 11,
   "metadata": {},
   "outputs": [
    {
     "name": "stdout",
     "output_type": "stream",
     "text": [
      "(105738,)\n",
      "(35238,)\n",
      "(35238,)\n"
     ]
    }
   ],
   "source": [
    "X_train, y_train = apply_sliding_window(X_train, y_train, window_size=100, step_size=8)\n",
    "X_valid, y_valid = apply_sliding_window(X_valid, y_valid, window_size=100, step_size=8)\n",
    "X_test, y_test = apply_sliding_window(X_test, y_test, window_size=100, step_size=8)\n",
    "\n",
    "print(y_train.shape)\n",
    "print(y_valid.shape)\n",
    "print(y_test.shape)"
   ]
  },
  {
   "cell_type": "code",
   "execution_count": 12,
   "metadata": {},
   "outputs": [],
   "source": [
    "lista_final = [X_train, X_valid, X_test, y_train, y_valid, y_test]\n",
    "\n",
    "with open('dataset_X_y_sliding_window.npy', 'wb') as f:\n",
    "    np.save(f, np.array(lista_final, dtype=object))"
   ]
  },
  {
   "cell_type": "code",
   "execution_count": null,
   "metadata": {},
   "outputs": [],
   "source": []
  }
 ],
 "metadata": {
  "kernelspec": {
   "display_name": "tfdml_plugin",
   "language": "python",
   "name": "python3"
  },
  "language_info": {
   "codemirror_mode": {
    "name": "ipython",
    "version": 3
   },
   "file_extension": ".py",
   "mimetype": "text/x-python",
   "name": "python",
   "nbconvert_exporter": "python",
   "pygments_lexer": "ipython3",
   "version": "3.10.16"
  }
 },
 "nbformat": 4,
 "nbformat_minor": 2
}
